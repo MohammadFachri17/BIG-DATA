{
 "cells": [
  {
   "cell_type": "code",
   "execution_count": 1,
   "id": "1b553087",
   "metadata": {
    "_cell_guid": "b1076dfc-b9ad-4769-8c92-a6c4dae69d19",
    "_uuid": "8f2839f25d086af736a60e9eeb907d3b93b6e0e5",
    "execution": {
     "iopub.execute_input": "2022-04-18T09:05:17.164482Z",
     "iopub.status.busy": "2022-04-18T09:05:17.163251Z",
     "iopub.status.idle": "2022-04-18T09:05:17.187102Z",
     "shell.execute_reply": "2022-04-18T09:05:17.185468Z"
    },
    "papermill": {
     "duration": 0.065981,
     "end_time": "2022-04-18T09:05:17.189587",
     "exception": false,
     "start_time": "2022-04-18T09:05:17.123606",
     "status": "completed"
    },
    "tags": []
   },
   "outputs": [
    {
     "name": "stdout",
     "output_type": "stream",
     "text": [
      "/kaggle/input/fahcridata/datapertambangan.csv\n"
     ]
    }
   ],
   "source": [
    "# This Python 3 environment comes with many helpful analytics libraries installed\n",
    "# It is defined by the kaggle/python Docker image: https://github.com/kaggle/docker-python\n",
    "# For example, here's several helpful packages to load\n",
    "\n",
    "import numpy as np # linear algebra\n",
    "import pandas as pd # data processing, CSV file I/O (e.g. pd.read_csv)\n",
    "\n",
    "# Input data files are available in the read-only \"../input/\" directory\n",
    "# For example, running this (by clicking run or pressing Shift+Enter) will list all files under the input directory\n",
    "\n",
    "import os\n",
    "for dirname, _, filenames in os.walk('/kaggle/input'):\n",
    "    for filename in filenames:\n",
    "        print(os.path.join(dirname, filename))\n",
    "\n",
    "# You can write up to 20GB to the current directory (/kaggle/working/) that gets preserved as output when you create a version using \"Save & Run All\" \n",
    "# You can also write temporary files to /kaggle/temp/, but they won't be saved outside of the current session"
   ]
  },
  {
   "cell_type": "code",
   "execution_count": 2,
   "id": "30495f3d",
   "metadata": {
    "execution": {
     "iopub.execute_input": "2022-04-18T09:05:17.263089Z",
     "iopub.status.busy": "2022-04-18T09:05:17.262508Z",
     "iopub.status.idle": "2022-04-18T09:05:18.301353Z",
     "shell.execute_reply": "2022-04-18T09:05:18.300500Z"
    },
    "papermill": {
     "duration": 1.075124,
     "end_time": "2022-04-18T09:05:18.303832",
     "exception": false,
     "start_time": "2022-04-18T09:05:17.228708",
     "status": "completed"
    },
    "tags": []
   },
   "outputs": [],
   "source": [
    "import pandas as pd \n",
    "import numpy as np\n",
    "import matplotlib.pyplot as plt\n",
    "import seaborn as sns\n",
    "from matplotlib.colors import ListedColormap\n",
    "%matplotlib inline\n",
    "from scipy import stats"
   ]
  },
  {
   "cell_type": "code",
   "execution_count": 3,
   "id": "9ea1370d",
   "metadata": {
    "execution": {
     "iopub.execute_input": "2022-04-18T09:05:18.370460Z",
     "iopub.status.busy": "2022-04-18T09:05:18.369915Z",
     "iopub.status.idle": "2022-04-18T09:05:18.401147Z",
     "shell.execute_reply": "2022-04-18T09:05:18.400222Z"
    },
    "papermill": {
     "duration": 0.06753,
     "end_time": "2022-04-18T09:05:18.404058",
     "exception": false,
     "start_time": "2022-04-18T09:05:18.336528",
     "status": "completed"
    },
    "tags": []
   },
   "outputs": [
    {
     "name": "stdout",
     "output_type": "stream",
     "text": [
      "<class 'pandas.core.frame.DataFrame'>\n",
      "RangeIndex: 3 entries, 0 to 2\n",
      "Data columns (total 6 columns):\n",
      " #   Column                   Non-Null Count  Dtype  \n",
      "---  ------                   --------------  -----  \n",
      " 0   Emitten                  3 non-null      object \n",
      " 1   DER                      3 non-null      float64\n",
      " 2   Operating profit margin  3 non-null      float64\n",
      " 3   sales growth             3 non-null      float64\n",
      " 4   Return On Asset          3 non-null      float64\n",
      " 5    Category                0 non-null      float64\n",
      "dtypes: float64(5), object(1)\n",
      "memory usage: 272.0+ bytes\n"
     ]
    }
   ],
   "source": [
    "df0 = pd.read_csv('../input/fahcridata/datapertambangan.csv')\n",
    "df0.info()"
   ]
  },
  {
   "cell_type": "code",
   "execution_count": 4,
   "id": "875d03b0",
   "metadata": {
    "execution": {
     "iopub.execute_input": "2022-04-18T09:05:18.470995Z",
     "iopub.status.busy": "2022-04-18T09:05:18.470696Z",
     "iopub.status.idle": "2022-04-18T09:05:18.504434Z",
     "shell.execute_reply": "2022-04-18T09:05:18.503526Z"
    },
    "papermill": {
     "duration": 0.069206,
     "end_time": "2022-04-18T09:05:18.506551",
     "exception": false,
     "start_time": "2022-04-18T09:05:18.437345",
     "status": "completed"
    },
    "tags": []
   },
   "outputs": [
    {
     "data": {
      "text/html": [
       "<div>\n",
       "<style scoped>\n",
       "    .dataframe tbody tr th:only-of-type {\n",
       "        vertical-align: middle;\n",
       "    }\n",
       "\n",
       "    .dataframe tbody tr th {\n",
       "        vertical-align: top;\n",
       "    }\n",
       "\n",
       "    .dataframe thead th {\n",
       "        text-align: right;\n",
       "    }\n",
       "</style>\n",
       "<table border=\"1\" class=\"dataframe\">\n",
       "  <thead>\n",
       "    <tr style=\"text-align: right;\">\n",
       "      <th></th>\n",
       "      <th>DER</th>\n",
       "      <th>Operating profit margin</th>\n",
       "      <th>sales growth</th>\n",
       "      <th>Return On Asset</th>\n",
       "      <th>Category</th>\n",
       "    </tr>\n",
       "  </thead>\n",
       "  <tbody>\n",
       "    <tr>\n",
       "      <th>count</th>\n",
       "      <td>3.000000</td>\n",
       "      <td>3.000000</td>\n",
       "      <td>3.000000</td>\n",
       "      <td>3.000000</td>\n",
       "      <td>0.0</td>\n",
       "    </tr>\n",
       "    <tr>\n",
       "      <th>mean</th>\n",
       "      <td>2.054751</td>\n",
       "      <td>0.337073</td>\n",
       "      <td>0.715809</td>\n",
       "      <td>12.657267</td>\n",
       "      <td>NaN</td>\n",
       "    </tr>\n",
       "    <tr>\n",
       "      <th>std</th>\n",
       "      <td>1.541774</td>\n",
       "      <td>0.769758</td>\n",
       "      <td>0.653542</td>\n",
       "      <td>14.475806</td>\n",
       "      <td>NaN</td>\n",
       "    </tr>\n",
       "    <tr>\n",
       "      <th>min</th>\n",
       "      <td>0.484731</td>\n",
       "      <td>-0.339042</td>\n",
       "      <td>-0.038650</td>\n",
       "      <td>-0.328694</td>\n",
       "      <td>NaN</td>\n",
       "    </tr>\n",
       "    <tr>\n",
       "      <th>25%</th>\n",
       "      <td>1.298810</td>\n",
       "      <td>-0.081795</td>\n",
       "      <td>0.519939</td>\n",
       "      <td>4.853570</td>\n",
       "      <td>NaN</td>\n",
       "    </tr>\n",
       "    <tr>\n",
       "      <th>50%</th>\n",
       "      <td>2.112888</td>\n",
       "      <td>0.175453</td>\n",
       "      <td>1.078529</td>\n",
       "      <td>10.035834</td>\n",
       "      <td>NaN</td>\n",
       "    </tr>\n",
       "    <tr>\n",
       "      <th>75%</th>\n",
       "      <td>2.839761</td>\n",
       "      <td>0.675131</td>\n",
       "      <td>1.093039</td>\n",
       "      <td>19.150248</td>\n",
       "      <td>NaN</td>\n",
       "    </tr>\n",
       "    <tr>\n",
       "      <th>max</th>\n",
       "      <td>3.566634</td>\n",
       "      <td>1.174809</td>\n",
       "      <td>1.107550</td>\n",
       "      <td>28.264663</td>\n",
       "      <td>NaN</td>\n",
       "    </tr>\n",
       "  </tbody>\n",
       "</table>\n",
       "</div>"
      ],
      "text/plain": [
       "            DER  Operating profit margin  sales growth  Return On Asset   \\\n",
       "count  3.000000                 3.000000      3.000000          3.000000   \n",
       "mean   2.054751                 0.337073      0.715809         12.657267   \n",
       "std    1.541774                 0.769758      0.653542         14.475806   \n",
       "min    0.484731                -0.339042     -0.038650         -0.328694   \n",
       "25%    1.298810                -0.081795      0.519939          4.853570   \n",
       "50%    2.112888                 0.175453      1.078529         10.035834   \n",
       "75%    2.839761                 0.675131      1.093039         19.150248   \n",
       "max    3.566634                 1.174809      1.107550         28.264663   \n",
       "\n",
       "        Category  \n",
       "count        0.0  \n",
       "mean         NaN  \n",
       "std          NaN  \n",
       "min          NaN  \n",
       "25%          NaN  \n",
       "50%          NaN  \n",
       "75%          NaN  \n",
       "max          NaN  "
      ]
     },
     "execution_count": 4,
     "metadata": {},
     "output_type": "execute_result"
    }
   ],
   "source": [
    "df0.describe()"
   ]
  },
  {
   "cell_type": "code",
   "execution_count": 5,
   "id": "2fc19438",
   "metadata": {
    "execution": {
     "iopub.execute_input": "2022-04-18T09:05:18.574121Z",
     "iopub.status.busy": "2022-04-18T09:05:18.573862Z",
     "iopub.status.idle": "2022-04-18T09:05:18.579282Z",
     "shell.execute_reply": "2022-04-18T09:05:18.578258Z"
    },
    "papermill": {
     "duration": 0.041753,
     "end_time": "2022-04-18T09:05:18.581276",
     "exception": false,
     "start_time": "2022-04-18T09:05:18.539523",
     "status": "completed"
    },
    "tags": []
   },
   "outputs": [],
   "source": [
    "df0.drop([\"Emitten\",\" Category\"], axis=1, inplace=True)"
   ]
  },
  {
   "cell_type": "code",
   "execution_count": 6,
   "id": "2812bb1d",
   "metadata": {
    "execution": {
     "iopub.execute_input": "2022-04-18T09:05:18.648722Z",
     "iopub.status.busy": "2022-04-18T09:05:18.648257Z",
     "iopub.status.idle": "2022-04-18T09:05:20.459604Z",
     "shell.execute_reply": "2022-04-18T09:05:20.458985Z"
    },
    "papermill": {
     "duration": 1.847642,
     "end_time": "2022-04-18T09:05:20.461903",
     "exception": false,
     "start_time": "2022-04-18T09:05:18.614261",
     "status": "completed"
    },
    "tags": []
   },
   "outputs": [
    {
     "data": {
      "text/plain": [
       "<Figure size 1080x1080 with 0 Axes>"
      ]
     },
     "metadata": {},
     "output_type": "display_data"
    },
    {
     "data": {
      "image/png": "[encoded data removed]",
      "text/plain": [
       "<Figure size 540x540 with 12 Axes>"
      ]
     },
     "metadata": {
      "needs_background": "light"
     },
     "output_type": "display_data"
    }
   ],
   "source": [
    "plt.figure(figsize=(15, 15))\n",
    "sns.pairplot(df0, vars = df0.columns[1:13]);"
   ]
  },
  {
   "cell_type": "code",
   "execution_count": 7,
   "id": "afe0a052",
   "metadata": {
    "execution": {
     "iopub.execute_input": "2022-04-18T09:05:20.535671Z",
     "iopub.status.busy": "2022-04-18T09:05:20.535331Z",
     "iopub.status.idle": "2022-04-18T09:05:20.562500Z",
     "shell.execute_reply": "2022-04-18T09:05:20.561642Z"
    },
    "papermill": {
     "duration": 0.065765,
     "end_time": "2022-04-18T09:05:20.564639",
     "exception": false,
     "start_time": "2022-04-18T09:05:20.498874",
     "status": "completed"
    },
    "tags": []
   },
   "outputs": [
    {
     "data": {
      "text/html": [
       "<div>\n",
       "<style scoped>\n",
       "    .dataframe tbody tr th:only-of-type {\n",
       "        vertical-align: middle;\n",
       "    }\n",
       "\n",
       "    .dataframe tbody tr th {\n",
       "        vertical-align: top;\n",
       "    }\n",
       "\n",
       "    .dataframe thead th {\n",
       "        text-align: right;\n",
       "    }\n",
       "</style>\n",
       "<table border=\"1\" class=\"dataframe\">\n",
       "  <thead>\n",
       "    <tr style=\"text-align: right;\">\n",
       "      <th></th>\n",
       "      <th>DER</th>\n",
       "      <th>Operating profit margin</th>\n",
       "      <th>sales growth</th>\n",
       "      <th>Return On Asset</th>\n",
       "      <th>Category</th>\n",
       "    </tr>\n",
       "  </thead>\n",
       "  <tbody>\n",
       "    <tr>\n",
       "      <th>count</th>\n",
       "      <td>3.000000</td>\n",
       "      <td>3.000000</td>\n",
       "      <td>3.000000</td>\n",
       "      <td>3.000000</td>\n",
       "      <td>0.0</td>\n",
       "    </tr>\n",
       "    <tr>\n",
       "      <th>mean</th>\n",
       "      <td>2.054751</td>\n",
       "      <td>0.337073</td>\n",
       "      <td>0.715809</td>\n",
       "      <td>12.657267</td>\n",
       "      <td>NaN</td>\n",
       "    </tr>\n",
       "    <tr>\n",
       "      <th>std</th>\n",
       "      <td>1.541774</td>\n",
       "      <td>0.769758</td>\n",
       "      <td>0.653542</td>\n",
       "      <td>14.475806</td>\n",
       "      <td>NaN</td>\n",
       "    </tr>\n",
       "    <tr>\n",
       "      <th>min</th>\n",
       "      <td>0.484731</td>\n",
       "      <td>-0.339042</td>\n",
       "      <td>-0.038650</td>\n",
       "      <td>-0.328694</td>\n",
       "      <td>NaN</td>\n",
       "    </tr>\n",
       "    <tr>\n",
       "      <th>25%</th>\n",
       "      <td>1.298810</td>\n",
       "      <td>-0.081795</td>\n",
       "      <td>0.519939</td>\n",
       "      <td>4.853570</td>\n",
       "      <td>NaN</td>\n",
       "    </tr>\n",
       "    <tr>\n",
       "      <th>50%</th>\n",
       "      <td>2.112888</td>\n",
       "      <td>0.175453</td>\n",
       "      <td>1.078529</td>\n",
       "      <td>10.035834</td>\n",
       "      <td>NaN</td>\n",
       "    </tr>\n",
       "    <tr>\n",
       "      <th>75%</th>\n",
       "      <td>2.839761</td>\n",
       "      <td>0.675131</td>\n",
       "      <td>1.093039</td>\n",
       "      <td>19.150248</td>\n",
       "      <td>NaN</td>\n",
       "    </tr>\n",
       "    <tr>\n",
       "      <th>max</th>\n",
       "      <td>3.566634</td>\n",
       "      <td>1.174809</td>\n",
       "      <td>1.107550</td>\n",
       "      <td>28.264663</td>\n",
       "      <td>NaN</td>\n",
       "    </tr>\n",
       "  </tbody>\n",
       "</table>\n",
       "</div>"
      ],
      "text/plain": [
       "            DER  Operating profit margin  sales growth  Return On Asset   \\\n",
       "count  3.000000                 3.000000      3.000000          3.000000   \n",
       "mean   2.054751                 0.337073      0.715809         12.657267   \n",
       "std    1.541774                 0.769758      0.653542         14.475806   \n",
       "min    0.484731                -0.339042     -0.038650         -0.328694   \n",
       "25%    1.298810                -0.081795      0.519939          4.853570   \n",
       "50%    2.112888                 0.175453      1.078529         10.035834   \n",
       "75%    2.839761                 0.675131      1.093039         19.150248   \n",
       "max    3.566634                 1.174809      1.107550         28.264663   \n",
       "\n",
       "        Category  \n",
       "count        0.0  \n",
       "mean         NaN  \n",
       "std          NaN  \n",
       "min          NaN  \n",
       "25%          NaN  \n",
       "50%          NaN  \n",
       "75%          NaN  \n",
       "max          NaN  "
      ]
     },
     "execution_count": 7,
     "metadata": {},
     "output_type": "execute_result"
    }
   ],
   "source": [
    "df0 = pd.read_csv('../input/fahcridata/datapertambangan.csv')\n",
    "df1 = df0[['DER','Operating profit margin' ,'sales growth','Return On Asset ',' Category']]\n",
    "df1.describe()"
   ]
  },
  {
   "cell_type": "code",
   "execution_count": 8,
   "id": "94a7be95",
   "metadata": {
    "execution": {
     "iopub.execute_input": "2022-04-18T09:05:20.637483Z",
     "iopub.status.busy": "2022-04-18T09:05:20.636471Z",
     "iopub.status.idle": "2022-04-18T09:05:20.857758Z",
     "shell.execute_reply": "2022-04-18T09:05:20.856855Z"
    },
    "papermill": {
     "duration": 0.260019,
     "end_time": "2022-04-18T09:05:20.860203",
     "exception": false,
     "start_time": "2022-04-18T09:05:20.600184",
     "status": "completed"
    },
    "tags": []
   },
   "outputs": [
    {
     "data": {
      "text/plain": [
       "<AxesSubplot:xlabel='Emitten', ylabel='Operating profit margin'>"
      ]
     },
     "execution_count": 8,
     "metadata": {},
     "output_type": "execute_result"
    },
    {
     "data": {
      "image/png": "[encoded data removed]",
      "text/plain": [
       "<Figure size 1296x288 with 1 Axes>"
      ]
     },
     "metadata": {
      "needs_background": "light"
     },
     "output_type": "display_data"
    }
   ],
   "source": [
    "plt.figure(figsize=(18, 4))\n",
    "plt.xticks(rotation=45)\n",
    "sns.scatterplot(x='Emitten', y='Operating profit margin', \n",
    "                data=df0, s=80)"
   ]
  },
  {
   "cell_type": "code",
   "execution_count": 9,
   "id": "de3413da",
   "metadata": {
    "execution": {
     "iopub.execute_input": "2022-04-18T09:05:20.936012Z",
     "iopub.status.busy": "2022-04-18T09:05:20.935718Z",
     "iopub.status.idle": "2022-04-18T09:05:21.268922Z",
     "shell.execute_reply": "2022-04-18T09:05:21.268094Z"
    },
    "papermill": {
     "duration": 0.373702,
     "end_time": "2022-04-18T09:05:21.271074",
     "exception": false,
     "start_time": "2022-04-18T09:05:20.897372",
     "status": "completed"
    },
    "tags": []
   },
   "outputs": [
    {
     "data": {
      "text/plain": [
       "<AxesSubplot:xlabel='Emitten', ylabel='DER'>"
      ]
     },
     "execution_count": 9,
     "metadata": {},
     "output_type": "execute_result"
    },
    {
     "data": {
      "image/png": "[encoded data removed]",
      "text/plain": [
       "<Figure size 1296x288 with 1 Axes>"
      ]
     },
     "metadata": {
      "needs_background": "light"
     },
     "output_type": "display_data"
    }
   ],
   "source": [
    "plt.figure(figsize=(18, 4))\n",
    "plt.xticks(rotation=45)\n",
    "sns.scatterplot(x='Emitten', y='DER', \n",
    "                data=df0, s=80)"
   ]
  },
  {
   "cell_type": "code",
   "execution_count": 10,
   "id": "ab149771",
   "metadata": {
    "execution": {
     "iopub.execute_input": "2022-04-18T09:05:21.349200Z",
     "iopub.status.busy": "2022-04-18T09:05:21.348654Z",
     "iopub.status.idle": "2022-04-18T09:05:21.552867Z",
     "shell.execute_reply": "2022-04-18T09:05:21.552225Z"
    },
    "papermill": {
     "duration": 0.245807,
     "end_time": "2022-04-18T09:05:21.554930",
     "exception": false,
     "start_time": "2022-04-18T09:05:21.309123",
     "status": "completed"
    },
    "tags": []
   },
   "outputs": [
    {
     "data": {
      "text/plain": [
       "<AxesSubplot:xlabel='Emitten', ylabel='sales growth'>"
      ]
     },
     "execution_count": 10,
     "metadata": {},
     "output_type": "execute_result"
    },
    {
     "data": {
      "image/png": "[encoded data removed]",
      "text/plain": [
       "<Figure size 1296x288 with 1 Axes>"
      ]
     },
     "metadata": {
      "needs_background": "light"
     },
     "output_type": "display_data"
    }
   ],
   "source": [
    "plt.figure(figsize=(18, 4))\n",
    "plt.xticks(rotation=45)\n",
    "sns.scatterplot(x='Emitten', y='sales growth', \n",
    "                data=df0, s=80)"
   ]
  },
  {
   "cell_type": "code",
   "execution_count": 11,
   "id": "68d487c5",
   "metadata": {
    "execution": {
     "iopub.execute_input": "2022-04-18T09:05:21.634549Z",
     "iopub.status.busy": "2022-04-18T09:05:21.634023Z",
     "iopub.status.idle": "2022-04-18T09:05:21.643970Z",
     "shell.execute_reply": "2022-04-18T09:05:21.642759Z"
    },
    "papermill": {
     "duration": 0.052372,
     "end_time": "2022-04-18T09:05:21.646460",
     "exception": false,
     "start_time": "2022-04-18T09:05:21.594088",
     "status": "completed"
    },
    "tags": []
   },
   "outputs": [
    {
     "name": "stdout",
     "output_type": "stream",
     "text": [
      "Jumlah baris sebelum memfilter outlier: 3\n",
      "Jumlah baris setelah memfilter outlier: 3\n"
     ]
    }
   ],
   "source": [
    "print(f'Jumlah baris sebelum memfilter outlier: {len(df1)}')\n",
    "\n",
    "filtered_entries = np.array([False] * len(df1))\n",
    "for col in ['Operating profit margin']:\n",
    "    zscore = abs(stats.zscore(df1[col]))\n",
    "    filtered_entries = (zscore < 3) | filtered_entries\n",
    "    \n",
    "df1 = df1[filtered_entries]\n",
    "\n",
    "print(f'Jumlah baris setelah memfilter outlier: {len(df1)}')"
   ]
  },
  {
   "cell_type": "code",
   "execution_count": 12,
   "id": "203bae6e",
   "metadata": {
    "execution": {
     "iopub.execute_input": "2022-04-18T09:05:21.728598Z",
     "iopub.status.busy": "2022-04-18T09:05:21.728025Z",
     "iopub.status.idle": "2022-04-18T09:05:21.868515Z",
     "shell.execute_reply": "2022-04-18T09:05:21.867608Z"
    },
    "papermill": {
     "duration": 0.183161,
     "end_time": "2022-04-18T09:05:21.870471",
     "exception": false,
     "start_time": "2022-04-18T09:05:21.687310",
     "status": "completed"
    },
    "tags": []
   },
   "outputs": [
    {
     "data": {
      "text/html": [
       "<div>\n",
       "<style scoped>\n",
       "    .dataframe tbody tr th:only-of-type {\n",
       "        vertical-align: middle;\n",
       "    }\n",
       "\n",
       "    .dataframe tbody tr th {\n",
       "        vertical-align: top;\n",
       "    }\n",
       "\n",
       "    .dataframe thead th {\n",
       "        text-align: right;\n",
       "    }\n",
       "</style>\n",
       "<table border=\"1\" class=\"dataframe\">\n",
       "  <thead>\n",
       "    <tr style=\"text-align: right;\">\n",
       "      <th></th>\n",
       "      <th>DER</th>\n",
       "      <th>Operating profit margin</th>\n",
       "      <th>sales growth</th>\n",
       "    </tr>\n",
       "  </thead>\n",
       "  <tbody>\n",
       "    <tr>\n",
       "      <th>count</th>\n",
       "      <td>3.000000</td>\n",
       "      <td>3.000000e+00</td>\n",
       "      <td>3.000000e+00</td>\n",
       "    </tr>\n",
       "    <tr>\n",
       "      <th>mean</th>\n",
       "      <td>0.000000</td>\n",
       "      <td>3.700743e-17</td>\n",
       "      <td>1.850372e-16</td>\n",
       "    </tr>\n",
       "    <tr>\n",
       "      <th>std</th>\n",
       "      <td>1.224745</td>\n",
       "      <td>1.224745e+00</td>\n",
       "      <td>1.224745e+00</td>\n",
       "    </tr>\n",
       "    <tr>\n",
       "      <th>min</th>\n",
       "      <td>-1.247183</td>\n",
       "      <td>-1.075752e+00</td>\n",
       "      <td>-1.413865e+00</td>\n",
       "    </tr>\n",
       "    <tr>\n",
       "      <th>25%</th>\n",
       "      <td>-0.600500</td>\n",
       "      <td>-6.664516e-01</td>\n",
       "      <td>-3.670628e-01</td>\n",
       "    </tr>\n",
       "    <tr>\n",
       "      <th>50%</th>\n",
       "      <td>0.046183</td>\n",
       "      <td>-2.571512e-01</td>\n",
       "      <td>6.797393e-01</td>\n",
       "    </tr>\n",
       "    <tr>\n",
       "      <th>75%</th>\n",
       "      <td>0.623592</td>\n",
       "      <td>5.378760e-01</td>\n",
       "      <td>7.069325e-01</td>\n",
       "    </tr>\n",
       "    <tr>\n",
       "      <th>max</th>\n",
       "      <td>1.201000</td>\n",
       "      <td>1.332903e+00</td>\n",
       "      <td>7.341257e-01</td>\n",
       "    </tr>\n",
       "  </tbody>\n",
       "</table>\n",
       "</div>"
      ],
      "text/plain": [
       "            DER  Operating profit margin  sales growth\n",
       "count  3.000000             3.000000e+00  3.000000e+00\n",
       "mean   0.000000             3.700743e-17  1.850372e-16\n",
       "std    1.224745             1.224745e+00  1.224745e+00\n",
       "min   -1.247183            -1.075752e+00 -1.413865e+00\n",
       "25%   -0.600500            -6.664516e-01 -3.670628e-01\n",
       "50%    0.046183            -2.571512e-01  6.797393e-01\n",
       "75%    0.623592             5.378760e-01  7.069325e-01\n",
       "max    1.201000             1.332903e+00  7.341257e-01"
      ]
     },
     "execution_count": 12,
     "metadata": {},
     "output_type": "execute_result"
    }
   ],
   "source": [
    "feats = ['DER','Operating profit margin','sales growth']\n",
    "X = df1[feats].values\n",
    "y = df1[' Category'].values\n",
    "\n",
    "from sklearn.preprocessing import StandardScaler\n",
    "X_std = StandardScaler().fit_transform(X)\n",
    "new_df = pd.DataFrame(data = X_std, columns = feats)\n",
    "new_df.describe()"
   ]
  },
  {
   "cell_type": "code",
   "execution_count": 13,
   "id": "6fe54581",
   "metadata": {
    "execution": {
     "iopub.execute_input": "2022-04-18T09:05:21.951727Z",
     "iopub.status.busy": "2022-04-18T09:05:21.951447Z",
     "iopub.status.idle": "2022-04-18T09:05:21.978259Z",
     "shell.execute_reply": "2022-04-18T09:05:21.977317Z"
    },
    "papermill": {
     "duration": 0.070446,
     "end_time": "2022-04-18T09:05:21.980743",
     "exception": false,
     "start_time": "2022-04-18T09:05:21.910297",
     "status": "completed"
    },
    "tags": []
   },
   "outputs": [
    {
     "data": {
      "text/html": [
       "<div>\n",
       "<style scoped>\n",
       "    .dataframe tbody tr th:only-of-type {\n",
       "        vertical-align: middle;\n",
       "    }\n",
       "\n",
       "    .dataframe tbody tr th {\n",
       "        vertical-align: top;\n",
       "    }\n",
       "\n",
       "    .dataframe thead th {\n",
       "        text-align: right;\n",
       "    }\n",
       "</style>\n",
       "<table border=\"1\" class=\"dataframe\">\n",
       "  <thead>\n",
       "    <tr style=\"text-align: right;\">\n",
       "      <th></th>\n",
       "      <th>DER</th>\n",
       "      <th>Operating profit margin</th>\n",
       "      <th>sales growth</th>\n",
       "      <th>Return On Asset</th>\n",
       "      <th>Category</th>\n",
       "    </tr>\n",
       "  </thead>\n",
       "  <tbody>\n",
       "    <tr>\n",
       "      <th>count</th>\n",
       "      <td>3.000000</td>\n",
       "      <td>3.000000</td>\n",
       "      <td>3.000000</td>\n",
       "      <td>3.000000</td>\n",
       "      <td>0.0</td>\n",
       "    </tr>\n",
       "    <tr>\n",
       "      <th>mean</th>\n",
       "      <td>2.054751</td>\n",
       "      <td>0.337073</td>\n",
       "      <td>0.715809</td>\n",
       "      <td>12.657267</td>\n",
       "      <td>NaN</td>\n",
       "    </tr>\n",
       "    <tr>\n",
       "      <th>std</th>\n",
       "      <td>1.541774</td>\n",
       "      <td>0.769758</td>\n",
       "      <td>0.653542</td>\n",
       "      <td>14.475806</td>\n",
       "      <td>NaN</td>\n",
       "    </tr>\n",
       "    <tr>\n",
       "      <th>min</th>\n",
       "      <td>0.484731</td>\n",
       "      <td>-0.339042</td>\n",
       "      <td>-0.038650</td>\n",
       "      <td>-0.328694</td>\n",
       "      <td>NaN</td>\n",
       "    </tr>\n",
       "    <tr>\n",
       "      <th>25%</th>\n",
       "      <td>1.298810</td>\n",
       "      <td>-0.081795</td>\n",
       "      <td>0.519939</td>\n",
       "      <td>4.853570</td>\n",
       "      <td>NaN</td>\n",
       "    </tr>\n",
       "    <tr>\n",
       "      <th>50%</th>\n",
       "      <td>2.112888</td>\n",
       "      <td>0.175453</td>\n",
       "      <td>1.078529</td>\n",
       "      <td>10.035834</td>\n",
       "      <td>NaN</td>\n",
       "    </tr>\n",
       "    <tr>\n",
       "      <th>75%</th>\n",
       "      <td>2.839761</td>\n",
       "      <td>0.675131</td>\n",
       "      <td>1.093039</td>\n",
       "      <td>19.150248</td>\n",
       "      <td>NaN</td>\n",
       "    </tr>\n",
       "    <tr>\n",
       "      <th>max</th>\n",
       "      <td>3.566634</td>\n",
       "      <td>1.174809</td>\n",
       "      <td>1.107550</td>\n",
       "      <td>28.264663</td>\n",
       "      <td>NaN</td>\n",
       "    </tr>\n",
       "  </tbody>\n",
       "</table>\n",
       "</div>"
      ],
      "text/plain": [
       "            DER  Operating profit margin  sales growth  Return On Asset   \\\n",
       "count  3.000000                 3.000000      3.000000          3.000000   \n",
       "mean   2.054751                 0.337073      0.715809         12.657267   \n",
       "std    1.541774                 0.769758      0.653542         14.475806   \n",
       "min    0.484731                -0.339042     -0.038650         -0.328694   \n",
       "25%    1.298810                -0.081795      0.519939          4.853570   \n",
       "50%    2.112888                 0.175453      1.078529         10.035834   \n",
       "75%    2.839761                 0.675131      1.093039         19.150248   \n",
       "max    3.566634                 1.174809      1.107550         28.264663   \n",
       "\n",
       "        Category  \n",
       "count        0.0  \n",
       "mean         NaN  \n",
       "std          NaN  \n",
       "min          NaN  \n",
       "25%          NaN  \n",
       "50%          NaN  \n",
       "75%          NaN  \n",
       "max          NaN  "
      ]
     },
     "execution_count": 13,
     "metadata": {},
     "output_type": "execute_result"
    }
   ],
   "source": [
    "df1.describe()"
   ]
  },
  {
   "cell_type": "code",
   "execution_count": 14,
   "id": "18758e0c",
   "metadata": {
    "execution": {
     "iopub.execute_input": "2022-04-18T09:05:22.065321Z",
     "iopub.status.busy": "2022-04-18T09:05:22.065055Z",
     "iopub.status.idle": "2022-04-18T09:05:22.306211Z",
     "shell.execute_reply": "2022-04-18T09:05:22.305508Z"
    },
    "papermill": {
     "duration": 0.28581,
     "end_time": "2022-04-18T09:05:22.308535",
     "exception": false,
     "start_time": "2022-04-18T09:05:22.022725",
     "status": "completed"
    },
    "tags": []
   },
   "outputs": [],
   "source": [
    "from sklearn.cluster import KMeans\n",
    "wcss=[]"
   ]
  },
  {
   "cell_type": "code",
   "execution_count": 15,
   "id": "dedfb02f",
   "metadata": {
    "execution": {
     "iopub.execute_input": "2022-04-18T09:05:22.391442Z",
     "iopub.status.busy": "2022-04-18T09:05:22.391142Z",
     "iopub.status.idle": "2022-04-18T09:05:22.397286Z",
     "shell.execute_reply": "2022-04-18T09:05:22.396464Z"
    },
    "papermill": {
     "duration": 0.04988,
     "end_time": "2022-04-18T09:05:22.399301",
     "exception": false,
     "start_time": "2022-04-18T09:05:22.349421",
     "status": "completed"
    },
    "tags": []
   },
   "outputs": [
    {
     "data": {
      "text/plain": [
       "(3, 6)"
      ]
     },
     "execution_count": 15,
     "metadata": {},
     "output_type": "execute_result"
    }
   ],
   "source": [
    "df0.shape"
   ]
  },
  {
   "cell_type": "code",
   "execution_count": 16,
   "id": "7ffa0edb",
   "metadata": {
    "execution": {
     "iopub.execute_input": "2022-04-18T09:05:22.481808Z",
     "iopub.status.busy": "2022-04-18T09:05:22.481519Z",
     "iopub.status.idle": "2022-04-18T09:05:22.891295Z",
     "shell.execute_reply": "2022-04-18T09:05:22.890366Z"
    },
    "papermill": {
     "duration": 0.453693,
     "end_time": "2022-04-18T09:05:22.893412",
     "exception": false,
     "start_time": "2022-04-18T09:05:22.439719",
     "status": "completed"
    },
    "tags": []
   },
   "outputs": [
    {
     "data": {
      "text/plain": [
       "[<matplotlib.lines.Line2D at 0x7f6cd75ee450>]"
      ]
     },
     "execution_count": 16,
     "metadata": {},
     "output_type": "execute_result"
    },
    {
     "data": {
      "image/png": "[encoded data removed]",
      "text/plain": [
       "<Figure size 864x432 with 1 Axes>"
      ]
     },
     "metadata": {
      "needs_background": "light"
     },
     "output_type": "display_data"
    }
   ],
   "source": [
    "from sklearn.cluster import KMeans\n",
    "inertia = []\n",
    "\n",
    "for i in range(1, 3):\n",
    "  kmeans = KMeans(n_clusters=i, init='k-means++', max_iter=300, n_init=10, random_state=0)\n",
    "  kmeans.fit(new_df.values)\n",
    "  inertia.append(kmeans.inertia_)\n",
    "\n",
    "plt.figure(figsize=(12, 6))\n",
    "plt.plot(inertia) #Elbow Method"
   ]
  },
  {
   "cell_type": "code",
   "execution_count": 17,
   "id": "89ed7d86",
   "metadata": {
    "execution": {
     "iopub.execute_input": "2022-04-18T09:05:22.981046Z",
     "iopub.status.busy": "2022-04-18T09:05:22.980400Z",
     "iopub.status.idle": "2022-04-18T09:05:23.001650Z",
     "shell.execute_reply": "2022-04-18T09:05:23.000379Z"
    },
    "papermill": {
     "duration": 0.068851,
     "end_time": "2022-04-18T09:05:23.004273",
     "exception": false,
     "start_time": "2022-04-18T09:05:22.935422",
     "status": "completed"
    },
    "tags": []
   },
   "outputs": [
    {
     "data": {
      "text/plain": [
       "KMeans(n_clusters=2, random_state=0)"
      ]
     },
     "execution_count": 17,
     "metadata": {},
     "output_type": "execute_result"
    }
   ],
   "source": [
    "from sklearn.cluster import KMeans\n",
    "kmeans = KMeans(n_clusters=2, init='k-means++', max_iter=300, n_init=10, random_state=0)\n",
    "kmeans.fit(new_df.values)"
   ]
  },
  {
   "cell_type": "code",
   "execution_count": 18,
   "id": "de8dac38",
   "metadata": {
    "execution": {
     "iopub.execute_input": "2022-04-18T09:05:23.092396Z",
     "iopub.status.busy": "2022-04-18T09:05:23.092108Z",
     "iopub.status.idle": "2022-04-18T09:05:23.098419Z",
     "shell.execute_reply": "2022-04-18T09:05:23.097814Z"
    },
    "papermill": {
     "duration": 0.051951,
     "end_time": "2022-04-18T09:05:23.100128",
     "exception": false,
     "start_time": "2022-04-18T09:05:23.048177",
     "status": "completed"
    },
    "tags": []
   },
   "outputs": [],
   "source": [
    "new_df['target'] = y\n",
    "new_df['fit'] = kmeans.labels_"
   ]
  },
  {
   "cell_type": "code",
   "execution_count": 19,
   "id": "96e047d7",
   "metadata": {
    "execution": {
     "iopub.execute_input": "2022-04-18T09:05:23.187609Z",
     "iopub.status.busy": "2022-04-18T09:05:23.186740Z",
     "iopub.status.idle": "2022-04-18T09:05:23.398424Z",
     "shell.execute_reply": "2022-04-18T09:05:23.397549Z"
    },
    "papermill": {
     "duration": 0.258405,
     "end_time": "2022-04-18T09:05:23.400702",
     "exception": false,
     "start_time": "2022-04-18T09:05:23.142297",
     "status": "completed"
    },
    "tags": []
   },
   "outputs": [
    {
     "data": {
      "image/png": "[encoded data removed]",
      "text/plain": [
       "<Figure size 576x576 with 1 Axes>"
      ]
     },
     "metadata": {
      "needs_background": "light"
     },
     "output_type": "display_data"
    }
   ],
   "source": [
    "plt.rcParams[\"figure.figsize\"] = (8, 8)\n",
    "sns.scatterplot(x='DER', y='Operating profit margin', hue=new_df.target.to_list(), data=new_df);"
   ]
  },
  {
   "cell_type": "code",
   "execution_count": 20,
   "id": "d4ed673a",
   "metadata": {
    "execution": {
     "iopub.execute_input": "2022-04-18T09:05:23.489349Z",
     "iopub.status.busy": "2022-04-18T09:05:23.488348Z",
     "iopub.status.idle": "2022-04-18T09:05:23.499345Z",
     "shell.execute_reply": "2022-04-18T09:05:23.498791Z"
    },
    "papermill": {
     "duration": 0.05719,
     "end_time": "2022-04-18T09:05:23.501128",
     "exception": false,
     "start_time": "2022-04-18T09:05:23.443938",
     "status": "completed"
    },
    "tags": []
   },
   "outputs": [
    {
     "data": {
      "text/html": [
       "<div>\n",
       "<style scoped>\n",
       "    .dataframe tbody tr th:only-of-type {\n",
       "        vertical-align: middle;\n",
       "    }\n",
       "\n",
       "    .dataframe tbody tr th {\n",
       "        vertical-align: top;\n",
       "    }\n",
       "\n",
       "    .dataframe thead th {\n",
       "        text-align: right;\n",
       "    }\n",
       "</style>\n",
       "<table border=\"1\" class=\"dataframe\">\n",
       "  <thead>\n",
       "    <tr style=\"text-align: right;\">\n",
       "      <th></th>\n",
       "      <th>DER</th>\n",
       "      <th>Operating profit margin</th>\n",
       "      <th>sales growth</th>\n",
       "      <th>target</th>\n",
       "      <th>fit</th>\n",
       "    </tr>\n",
       "  </thead>\n",
       "  <tbody>\n",
       "    <tr>\n",
       "      <th>0</th>\n",
       "      <td>0.046183</td>\n",
       "      <td>1.332903</td>\n",
       "      <td>0.734126</td>\n",
       "      <td>NaN</td>\n",
       "      <td>0</td>\n",
       "    </tr>\n",
       "    <tr>\n",
       "      <th>1</th>\n",
       "      <td>1.201000</td>\n",
       "      <td>-1.075752</td>\n",
       "      <td>-1.413865</td>\n",
       "      <td>NaN</td>\n",
       "      <td>1</td>\n",
       "    </tr>\n",
       "    <tr>\n",
       "      <th>2</th>\n",
       "      <td>-1.247183</td>\n",
       "      <td>-0.257151</td>\n",
       "      <td>0.679739</td>\n",
       "      <td>NaN</td>\n",
       "      <td>0</td>\n",
       "    </tr>\n",
       "  </tbody>\n",
       "</table>\n",
       "</div>"
      ],
      "text/plain": [
       "        DER  Operating profit margin  sales growth  target  fit\n",
       "0  0.046183                 1.332903      0.734126     NaN    0\n",
       "1  1.201000                -1.075752     -1.413865     NaN    1\n",
       "2 -1.247183                -0.257151      0.679739     NaN    0"
      ]
     },
     "execution_count": 20,
     "metadata": {},
     "output_type": "execute_result"
    }
   ],
   "source": [
    "new_df.head(5)"
   ]
  },
  {
   "cell_type": "code",
   "execution_count": 21,
   "id": "c493a7a3",
   "metadata": {
    "execution": {
     "iopub.execute_input": "2022-04-18T09:05:23.591061Z",
     "iopub.status.busy": "2022-04-18T09:05:23.590574Z",
     "iopub.status.idle": "2022-04-18T09:05:23.608386Z",
     "shell.execute_reply": "2022-04-18T09:05:23.607802Z"
    },
    "papermill": {
     "duration": 0.06538,
     "end_time": "2022-04-18T09:05:23.610215",
     "exception": false,
     "start_time": "2022-04-18T09:05:23.544835",
     "status": "completed"
    },
    "tags": []
   },
   "outputs": [
    {
     "data": {
      "text/html": [
       "<div>\n",
       "<style scoped>\n",
       "    .dataframe tbody tr th:only-of-type {\n",
       "        vertical-align: middle;\n",
       "    }\n",
       "\n",
       "    .dataframe tbody tr th {\n",
       "        vertical-align: top;\n",
       "    }\n",
       "\n",
       "    .dataframe thead th {\n",
       "        text-align: right;\n",
       "    }\n",
       "</style>\n",
       "<table border=\"1\" class=\"dataframe\">\n",
       "  <thead>\n",
       "    <tr style=\"text-align: right;\">\n",
       "      <th></th>\n",
       "      <th>Category</th>\n",
       "      <th>DER</th>\n",
       "      <th>Operating profit margin</th>\n",
       "      <th>sales growth</th>\n",
       "      <th>target</th>\n",
       "      <th>fit</th>\n",
       "    </tr>\n",
       "  </thead>\n",
       "  <tbody>\n",
       "    <tr>\n",
       "      <th>0</th>\n",
       "      <td>2</td>\n",
       "      <td>0.046183</td>\n",
       "      <td>1.332903</td>\n",
       "      <td>0.734126</td>\n",
       "      <td>NaN</td>\n",
       "      <td>0</td>\n",
       "    </tr>\n",
       "    <tr>\n",
       "      <th>1</th>\n",
       "      <td>4</td>\n",
       "      <td>1.201000</td>\n",
       "      <td>-1.075752</td>\n",
       "      <td>-1.413865</td>\n",
       "      <td>NaN</td>\n",
       "      <td>1</td>\n",
       "    </tr>\n",
       "    <tr>\n",
       "      <th>2</th>\n",
       "      <td>2</td>\n",
       "      <td>-1.247183</td>\n",
       "      <td>-0.257151</td>\n",
       "      <td>0.679739</td>\n",
       "      <td>NaN</td>\n",
       "      <td>0</td>\n",
       "    </tr>\n",
       "  </tbody>\n",
       "</table>\n",
       "</div>"
      ],
      "text/plain": [
       "    Category       DER  Operating profit margin  sales growth  target  fit\n",
       "0          2  0.046183                 1.332903      0.734126     NaN    0\n",
       "1          4  1.201000                -1.075752     -1.413865     NaN    1\n",
       "2          2 -1.247183                -0.257151      0.679739     NaN    0"
      ]
     },
     "execution_count": 21,
     "metadata": {},
     "output_type": "execute_result"
    }
   ],
   "source": [
    "new_df.insert(0,\" Category\",np.nan,True)\n",
    "new_df.loc[new_df['fit'] == 0, ' Category'] = 2\n",
    "new_df.loc[new_df['fit'] == 1, ' Category'] = 4\n",
    "new_df.loc[new_df['fit'] == 2, ' Category'] = 1\n",
    "new_df.loc[new_df['fit'] == 3, ' Category'] = 0\n",
    "new_df.loc[new_df['fit'] == 4, ' Category'] = 3\n",
    "new_df[' Category'] = new_df[' Category'].astype(int)\n",
    "new_df.head(5)"
   ]
  },
  {
   "cell_type": "code",
   "execution_count": 22,
   "id": "523f4b6e",
   "metadata": {
    "execution": {
     "iopub.execute_input": "2022-04-18T09:05:23.699980Z",
     "iopub.status.busy": "2022-04-18T09:05:23.699524Z",
     "iopub.status.idle": "2022-04-18T09:05:23.712038Z",
     "shell.execute_reply": "2022-04-18T09:05:23.711094Z"
    },
    "papermill": {
     "duration": 0.060015,
     "end_time": "2022-04-18T09:05:23.714238",
     "exception": false,
     "start_time": "2022-04-18T09:05:23.654223",
     "status": "completed"
    },
    "tags": []
   },
   "outputs": [
    {
     "name": "stdout",
     "output_type": "stream",
     "text": [
      "<class 'pandas.core.frame.DataFrame'>\n",
      "RangeIndex: 3 entries, 0 to 2\n",
      "Data columns (total 4 columns):\n",
      " #   Column                         Non-Null Count  Dtype  \n",
      "---  ------                         --------------  -----  \n",
      " 0    Category                      3 non-null      int64  \n",
      " 1   DER (St.)                      3 non-null      float64\n",
      " 2   Operating profit margin (St.)  3 non-null      float64\n",
      " 3   sales growth (St.)             3 non-null      float64\n",
      "dtypes: float64(3), int64(1)\n",
      "memory usage: 224.0 bytes\n"
     ]
    }
   ],
   "source": [
    "new_df.drop([\"fit\",\"target\"], axis=1, inplace=True)\n",
    "new_df.columns = [' Category','DER (St.)','Operating profit margin (St.)', 'sales growth (St.)']\n",
    "new_df.info()"
   ]
  },
  {
   "cell_type": "code",
   "execution_count": 23,
   "id": "aebb7e2c",
   "metadata": {
    "execution": {
     "iopub.execute_input": "2022-04-18T09:05:23.805128Z",
     "iopub.status.busy": "2022-04-18T09:05:23.804383Z",
     "iopub.status.idle": "2022-04-18T09:05:24.285302Z",
     "shell.execute_reply": "2022-04-18T09:05:24.284685Z"
    },
    "papermill": {
     "duration": 0.528221,
     "end_time": "2022-04-18T09:05:24.287165",
     "exception": false,
     "start_time": "2022-04-18T09:05:23.758944",
     "status": "completed"
    },
    "tags": []
   },
   "outputs": [
    {
     "data": {
      "image/png": "[encoded data removed]",
      "text/plain": [
       "<Figure size 576x576 with 1 Axes>"
      ]
     },
     "metadata": {
      "needs_background": "light"
     },
     "output_type": "display_data"
    }
   ],
   "source": [
    "from mpl_toolkits.mplot3d import Axes3D\n",
    "\n",
    "fig = plt.figure()\n",
    "ax = fig.add_subplot(111, projection = '3d')\n",
    "\n",
    "\n",
    "x = new_df['DER (St.)']\n",
    "y = new_df['Operating profit margin (St.)']\n",
    "z = new_df['sales growth (St.)']\n",
    "\n",
    "ax.set_xlabel(\"DER (St.)\")\n",
    "ax.set_ylabel(\"Operating profit margin (St.)\")\n",
    "ax.set_zlabel(\"sales growth (St.)\")\n",
    "\n",
    "cmap = ListedColormap(sns.color_palette(\"RdYlGn\", 256).as_hex())\n",
    "\n",
    "sc = ax.scatter(x, y, z, s=40, c=new_df[' Category'], marker='o', cmap=cmap, alpha=1)\n",
    "plt.legend(*sc.legend_elements(), bbox_to_anchor=(1.05, 1), loc=2)\n",
    "\n",
    "plt.show()"
   ]
  },
  {
   "cell_type": "code",
   "execution_count": 24,
   "id": "0370077a",
   "metadata": {
    "execution": {
     "iopub.execute_input": "2022-04-18T09:05:24.383880Z",
     "iopub.status.busy": "2022-04-18T09:05:24.382987Z",
     "iopub.status.idle": "2022-04-18T09:05:24.629891Z",
     "shell.execute_reply": "2022-04-18T09:05:24.629202Z"
    },
    "papermill": {
     "duration": 0.297677,
     "end_time": "2022-04-18T09:05:24.631867",
     "exception": false,
     "start_time": "2022-04-18T09:05:24.334190",
     "status": "completed"
    },
    "tags": []
   },
   "outputs": [
    {
     "data": {
      "image/png": "[encoded data removed]",
      "text/plain": [
       "<Figure size 576x576 with 1 Axes>"
      ]
     },
     "metadata": {
      "needs_background": "light"
     },
     "output_type": "display_data"
    }
   ],
   "source": [
    "# color palette as dictionary\n",
    "palette = {0:\"tab:red\",\n",
    "           1:\"tab:orange\", \n",
    "           2:\"yellow\",\n",
    "           3:\"lime\",\n",
    "           4:\"darkgreen\"}\n",
    "\n",
    "sns.scatterplot(x='DER (St.)', y='sales growth (St.)', \n",
    "                hue=' Category', data=new_df, s=80,\n",
    "                palette=palette)\n",
    "plt.title(\"DER vs sales growth (Standardisasi)\", fontsize=18, y=1.05)\n",
    "plt.show()"
   ]
  },
  {
   "cell_type": "code",
   "execution_count": 25,
   "id": "c9d03df6",
   "metadata": {
    "execution": {
     "iopub.execute_input": "2022-04-18T09:05:24.730150Z",
     "iopub.status.busy": "2022-04-18T09:05:24.729863Z",
     "iopub.status.idle": "2022-04-18T09:05:24.986591Z",
     "shell.execute_reply": "2022-04-18T09:05:24.985701Z"
    },
    "papermill": {
     "duration": 0.30903,
     "end_time": "2022-04-18T09:05:24.988992",
     "exception": false,
     "start_time": "2022-04-18T09:05:24.679962",
     "status": "completed"
    },
    "tags": []
   },
   "outputs": [
    {
     "data": {
      "image/png": "[encoded data removed]",
      "text/plain": [
       "<Figure size 576x576 with 1 Axes>"
      ]
     },
     "metadata": {
      "needs_background": "light"
     },
     "output_type": "display_data"
    }
   ],
   "source": [
    "sns.scatterplot(x='Operating profit margin (St.)', y='sales growth (St.)', \n",
    "                hue=' Category', data=new_df, s=80,\n",
    "                palette=palette)\n",
    "plt.title(\"Operating profit margin vs sales growth (Standardisasi)\", fontsize=18, y=1.05)\n",
    "plt.show()"
   ]
  },
  {
   "cell_type": "code",
   "execution_count": 26,
   "id": "c819eb37",
   "metadata": {
    "execution": {
     "iopub.execute_input": "2022-04-18T09:05:25.090890Z",
     "iopub.status.busy": "2022-04-18T09:05:25.090105Z",
     "iopub.status.idle": "2022-04-18T09:05:25.346286Z",
     "shell.execute_reply": "2022-04-18T09:05:25.345350Z"
    },
    "papermill": {
     "duration": 0.309022,
     "end_time": "2022-04-18T09:05:25.348376",
     "exception": false,
     "start_time": "2022-04-18T09:05:25.039354",
     "status": "completed"
    },
    "tags": []
   },
   "outputs": [
    {
     "data": {
      "image/png": "[encoded data removed]",
      "text/plain": [
       "<Figure size 576x576 with 1 Axes>"
      ]
     },
     "metadata": {
      "needs_background": "light"
     },
     "output_type": "display_data"
    }
   ],
   "source": [
    "sns.scatterplot(x='DER (St.)', y='Operating profit margin (St.)', \n",
    "                hue=' Category', data=new_df, s=80,\n",
    "                palette=palette)\n",
    "plt.title(\"DER vs Operating profit margin (Standardisasi)\", fontsize=18, y=1.05)\n",
    "plt.show()"
   ]
  },
  {
   "cell_type": "code",
   "execution_count": 27,
   "id": "8cd5adbd",
   "metadata": {
    "execution": {
     "iopub.execute_input": "2022-04-18T09:05:25.450324Z",
     "iopub.status.busy": "2022-04-18T09:05:25.450054Z",
     "iopub.status.idle": "2022-04-18T09:05:25.460963Z",
     "shell.execute_reply": "2022-04-18T09:05:25.460354Z"
    },
    "papermill": {
     "duration": 0.065187,
     "end_time": "2022-04-18T09:05:25.463858",
     "exception": false,
     "start_time": "2022-04-18T09:05:25.398671",
     "status": "completed"
    },
    "tags": []
   },
   "outputs": [
    {
     "name": "stdout",
     "output_type": "stream",
     "text": [
      "<class 'pandas.core.frame.DataFrame'>\n",
      "RangeIndex: 3 entries, 0 to 2\n",
      "Data columns (total 6 columns):\n",
      " #   Column                   Non-Null Count  Dtype  \n",
      "---  ------                   --------------  -----  \n",
      " 0   Emitten                  3 non-null      object \n",
      " 1   DER                      3 non-null      float64\n",
      " 2   Operating profit margin  3 non-null      float64\n",
      " 3   sales growth             3 non-null      float64\n",
      " 4   Return On Asset          3 non-null      float64\n",
      " 5    Category                0 non-null      float64\n",
      "dtypes: float64(5), object(1)\n",
      "memory usage: 272.0+ bytes\n"
     ]
    }
   ],
   "source": [
    "df0.info()"
   ]
  },
  {
   "cell_type": "code",
   "execution_count": 28,
   "id": "152c9139",
   "metadata": {
    "execution": {
     "iopub.execute_input": "2022-04-18T09:05:25.567758Z",
     "iopub.status.busy": "2022-04-18T09:05:25.567155Z",
     "iopub.status.idle": "2022-04-18T09:05:25.589724Z",
     "shell.execute_reply": "2022-04-18T09:05:25.588866Z"
    },
    "papermill": {
     "duration": 0.076313,
     "end_time": "2022-04-18T09:05:25.591812",
     "exception": false,
     "start_time": "2022-04-18T09:05:25.515499",
     "status": "completed"
    },
    "tags": []
   },
   "outputs": [
    {
     "data": {
      "text/html": [
       "<div>\n",
       "<style scoped>\n",
       "    .dataframe tbody tr th:only-of-type {\n",
       "        vertical-align: middle;\n",
       "    }\n",
       "\n",
       "    .dataframe tbody tr th {\n",
       "        vertical-align: top;\n",
       "    }\n",
       "\n",
       "    .dataframe thead th {\n",
       "        text-align: right;\n",
       "    }\n",
       "</style>\n",
       "<table border=\"1\" class=\"dataframe\">\n",
       "  <thead>\n",
       "    <tr style=\"text-align: right;\">\n",
       "      <th></th>\n",
       "      <th>Emitten</th>\n",
       "      <th>DER</th>\n",
       "      <th>Operating profit margin</th>\n",
       "      <th>sales growth</th>\n",
       "      <th>Return On Asset</th>\n",
       "      <th>Category</th>\n",
       "      <th>Category</th>\n",
       "      <th>DER (St.)</th>\n",
       "      <th>Operating profit margin (St.)</th>\n",
       "      <th>sales growth (St.)</th>\n",
       "      <th>Emitten</th>\n",
       "      <th>DER</th>\n",
       "      <th>Operating profit margin</th>\n",
       "      <th>sales growth</th>\n",
       "      <th>Return On Asset</th>\n",
       "      <th>Category</th>\n",
       "    </tr>\n",
       "  </thead>\n",
       "  <tbody>\n",
       "    <tr>\n",
       "      <th>0</th>\n",
       "      <td>BIPI.JK</td>\n",
       "      <td>2.112888</td>\n",
       "      <td>1.174809</td>\n",
       "      <td>1.107550</td>\n",
       "      <td>10.035834</td>\n",
       "      <td>NaN</td>\n",
       "      <td>2</td>\n",
       "      <td>0.046183</td>\n",
       "      <td>1.332903</td>\n",
       "      <td>0.734126</td>\n",
       "      <td>BIPI.JK</td>\n",
       "      <td>2.112888</td>\n",
       "      <td>1.174809</td>\n",
       "      <td>1.107550</td>\n",
       "      <td>10.035834</td>\n",
       "      <td>NaN</td>\n",
       "    </tr>\n",
       "    <tr>\n",
       "      <th>1</th>\n",
       "      <td>ARII.JK</td>\n",
       "      <td>3.566634</td>\n",
       "      <td>-0.339042</td>\n",
       "      <td>-0.038650</td>\n",
       "      <td>-0.328694</td>\n",
       "      <td>NaN</td>\n",
       "      <td>4</td>\n",
       "      <td>1.201000</td>\n",
       "      <td>-1.075752</td>\n",
       "      <td>-1.413865</td>\n",
       "      <td>ARII.JK</td>\n",
       "      <td>3.566634</td>\n",
       "      <td>-0.339042</td>\n",
       "      <td>-0.038650</td>\n",
       "      <td>-0.328694</td>\n",
       "      <td>NaN</td>\n",
       "    </tr>\n",
       "    <tr>\n",
       "      <th>2</th>\n",
       "      <td>MDKA.JK</td>\n",
       "      <td>0.484731</td>\n",
       "      <td>0.175453</td>\n",
       "      <td>1.078529</td>\n",
       "      <td>28.264663</td>\n",
       "      <td>NaN</td>\n",
       "      <td>2</td>\n",
       "      <td>-1.247183</td>\n",
       "      <td>-0.257151</td>\n",
       "      <td>0.679739</td>\n",
       "      <td>MDKA.JK</td>\n",
       "      <td>0.484731</td>\n",
       "      <td>0.175453</td>\n",
       "      <td>1.078529</td>\n",
       "      <td>28.264663</td>\n",
       "      <td>NaN</td>\n",
       "    </tr>\n",
       "  </tbody>\n",
       "</table>\n",
       "</div>"
      ],
      "text/plain": [
       "    Emitten       DER  Operating profit margin  sales growth  \\\n",
       "0   BIPI.JK  2.112888                 1.174809      1.107550   \n",
       "1  ARII.JK   3.566634                -0.339042     -0.038650   \n",
       "2   MDKA.JK  0.484731                 0.175453      1.078529   \n",
       "\n",
       "   Return On Asset    Category   Category  DER (St.)  \\\n",
       "0         10.035834        NaN          2   0.046183   \n",
       "1         -0.328694        NaN          4   1.201000   \n",
       "2         28.264663        NaN          2  -1.247183   \n",
       "\n",
       "   Operating profit margin (St.)  sales growth (St.)   Emitten       DER  \\\n",
       "0                       1.332903            0.734126   BIPI.JK  2.112888   \n",
       "1                      -1.075752           -1.413865  ARII.JK   3.566634   \n",
       "2                      -0.257151            0.679739   MDKA.JK  0.484731   \n",
       "\n",
       "   Operating profit margin  sales growth  Return On Asset    Category  \n",
       "0                 1.174809      1.107550         10.035834        NaN  \n",
       "1                -0.339042     -0.038650         -0.328694        NaN  \n",
       "2                 0.175453      1.078529         28.264663        NaN  "
      ]
     },
     "execution_count": 28,
     "metadata": {},
     "output_type": "execute_result"
    }
   ],
   "source": [
    "dftemp = pd.read_csv('../input/fahcridata/datapertambangan.csv')\n",
    "df = pd.concat([dftemp, new_df, df0], axis=1)\n",
    "df.head(6)"
   ]
  },
  {
   "cell_type": "code",
   "execution_count": 29,
   "id": "de62723f",
   "metadata": {
    "execution": {
     "iopub.execute_input": "2022-04-18T09:05:25.696547Z",
     "iopub.status.busy": "2022-04-18T09:05:25.695727Z",
     "iopub.status.idle": "2022-04-18T09:05:25.703770Z",
     "shell.execute_reply": "2022-04-18T09:05:25.702978Z"
    },
    "papermill": {
     "duration": 0.062641,
     "end_time": "2022-04-18T09:05:25.705845",
     "exception": false,
     "start_time": "2022-04-18T09:05:25.643204",
     "status": "completed"
    },
    "tags": []
   },
   "outputs": [],
   "source": [
    "df.to_csv('result.csv', index = False)"
   ]
  },
  {
   "cell_type": "code",
   "execution_count": 30,
   "id": "39c60499",
   "metadata": {
    "execution": {
     "iopub.execute_input": "2022-04-18T09:05:25.810411Z",
     "iopub.status.busy": "2022-04-18T09:05:25.809623Z",
     "iopub.status.idle": "2022-04-18T09:05:25.816108Z",
     "shell.execute_reply": "2022-04-18T09:05:25.815336Z"
    },
    "papermill": {
     "duration": 0.060607,
     "end_time": "2022-04-18T09:05:25.817883",
     "exception": false,
     "start_time": "2022-04-18T09:05:25.757276",
     "status": "completed"
    },
    "tags": []
   },
   "outputs": [
    {
     "data": {
      "text/plain": [
       "array([[-0.60050011,  0.53787599,  0.70693246],\n",
       "       [ 1.20100022, -1.07575197, -1.41386493]])"
      ]
     },
     "execution_count": 30,
     "metadata": {},
     "output_type": "execute_result"
    }
   ],
   "source": [
    "kmeans.cluster_centers_"
   ]
  },
  {
   "cell_type": "code",
   "execution_count": 31,
   "id": "68e9101e",
   "metadata": {
    "execution": {
     "iopub.execute_input": "2022-04-18T09:05:25.924124Z",
     "iopub.status.busy": "2022-04-18T09:05:25.923708Z",
     "iopub.status.idle": "2022-04-18T09:05:26.156283Z",
     "shell.execute_reply": "2022-04-18T09:05:26.155451Z"
    },
    "papermill": {
     "duration": 0.288153,
     "end_time": "2022-04-18T09:05:26.158836",
     "exception": false,
     "start_time": "2022-04-18T09:05:25.870683",
     "status": "completed"
    },
    "tags": []
   },
   "outputs": [
    {
     "data": {
      "image/png": "[encoded data removed]",
      "text/plain": [
       "<Figure size 576x576 with 1 Axes>"
      ]
     },
     "metadata": {
      "needs_background": "light"
     },
     "output_type": "display_data"
    }
   ],
   "source": [
    "from mpl_toolkits.mplot3d import Axes3D\n",
    "\n",
    "fig = plt.figure()\n",
    "ax = fig.add_subplot(111, projection = '3d')\n",
    "x = [0.07796577,3.3825386,-0.19978728,-0.22183117,-0.32525515]\n",
    "y = [1.27721216,-0.22442569,-1.39490532,0.15549501,-0.03911061]\n",
    "z = [-0.22773712,0.35006475,-0.89274149,4.44060221,0.14030381]\n",
    "\n",
    "ax.set_xlabel(\"DER (St.)\")\n",
    "ax.set_ylabel(\"Operating Profit Margin (St.)\")\n",
    "ax.set_zlabel(\"Sales Growth (St.)\")\n",
    "ax.scatter(x, y, z)\n",
    "plt.show()"
   ]
  }
 ],
 "metadata": {
  "kernelspec": {
   "display_name": "Python 3",
   "language": "python",
   "name": "python3"
  },
  "language_info": {
   "codemirror_mode": {
    "name": "ipython",
    "version": 3
   },
   "file_extension": ".py",
   "mimetype": "text/x-python",
   "name": "python",
   "nbconvert_exporter": "python",
   "pygments_lexer": "ipython3",
   "version": "3.7.12"
  },
  "papermill": {
   "default_parameters": {},
   "duration": 19.838529,
   "end_time": "2022-04-18T09:05:27.035406",
   "environment_variables": {},
   "exception": null,
   "input_path": "__notebook__.ipynb",
   "output_path": "__notebook__.ipynb",
   "parameters": {},
   "start_time": "2022-04-18T09:05:07.196877",
   "version": "2.3.4"
  }
 },
 "nbformat": 4,
 "nbformat_minor": 5
}
