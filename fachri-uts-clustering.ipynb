{
 "cells": [
  {
   "cell_type": "code",
   "execution_count": 1,
   "id": "4276abac",
   "metadata": {
    "_cell_guid": "b1076dfc-b9ad-4769-8c92-a6c4dae69d19",
    "_uuid": "8f2839f25d086af736a60e9eeb907d3b93b6e0e5",
    "execution": {
     "iopub.execute_input": "2022-04-20T08:25:53.927740Z",
     "iopub.status.busy": "2022-04-20T08:25:53.927259Z",
     "iopub.status.idle": "2022-04-20T08:25:53.947952Z",
     "shell.execute_reply": "2022-04-20T08:25:53.947237Z"
    },
    "papermill": {
     "duration": 0.073276,
     "end_time": "2022-04-20T08:25:53.950633",
     "exception": false,
     "start_time": "2022-04-20T08:25:53.877357",
     "status": "completed"
    },
    "tags": []
   },
   "outputs": [
    {
     "name": "stdout",
     "output_type": "stream",
     "text": [
      "/kaggle/input/clustering-big-data/Clustering.csv\n",
      "/kaggle/input/clustering-big-data/Emitten.csv\n"
     ]
    }
   ],
   "source": [
    "# This Python 3 environment comes with many helpful analytics libraries installed\n",
    "# It is defined by the kaggle/python Docker image: https://github.com/kaggle/docker-python\n",
    "# For example, here's several helpful packages to load\n",
    "\n",
    "import numpy as np # linear algebra\n",
    "import pandas as pd # data processing, CSV file I/O (e.g. pd.read_csv)\n",
    "\n",
    "# Input data files are available in the read-only \"../input/\" directory\n",
    "# For example, running this (by clicking run or pressing Shift+Enter) will list all files under the input directory\n",
    "\n",
    "import os\n",
    "for dirname, _, filenames in os.walk('/kaggle/input'):\n",
    "    for filename in filenames:\n",
    "        print(os.path.join(dirname, filename))\n",
    "\n",
    "# You can write up to 20GB to the current directory (/kaggle/working/) that gets preserved as output when you create a version using \"Save & Run All\" \n",
    "# You can also write temporary files to /kaggle/temp/, but they won't be saved outside of the current session"
   ]
  },
  {
   "cell_type": "code",
   "execution_count": 2,
   "id": "c17ac3fe",
   "metadata": {
    "execution": {
     "iopub.execute_input": "2022-04-20T08:25:54.044584Z",
     "iopub.status.busy": "2022-04-20T08:25:54.044267Z",
     "iopub.status.idle": "2022-04-20T08:25:55.178253Z",
     "shell.execute_reply": "2022-04-20T08:25:55.177411Z"
    },
    "papermill": {
     "duration": 1.183703,
     "end_time": "2022-04-20T08:25:55.180573",
     "exception": false,
     "start_time": "2022-04-20T08:25:53.996870",
     "status": "completed"
    },
    "tags": []
   },
   "outputs": [],
   "source": [
    "import pandas as pd \n",
    "import numpy as np\n",
    "import matplotlib.pyplot as plt\n",
    "import seaborn as sns\n",
    "from matplotlib.colors import ListedColormap\n",
    "%matplotlib inline\n",
    "from scipy import stats"
   ]
  },
  {
   "cell_type": "markdown",
   "id": "eb4624ff",
   "metadata": {
    "papermill": {
     "duration": 0.045398,
     "end_time": "2022-04-20T08:25:55.273584",
     "exception": false,
     "start_time": "2022-04-20T08:25:55.228186",
     "status": "completed"
    },
    "tags": []
   },
   "source": [
    "# 1. Exploratory Data Analysis\n",
    "# 1.1 Load Data"
   ]
  },
  {
   "cell_type": "code",
   "execution_count": 3,
   "id": "de785aaa",
   "metadata": {
    "execution": {
     "iopub.execute_input": "2022-04-20T08:25:55.367242Z",
     "iopub.status.busy": "2022-04-20T08:25:55.366949Z",
     "iopub.status.idle": "2022-04-20T08:25:55.399607Z",
     "shell.execute_reply": "2022-04-20T08:25:55.398652Z"
    },
    "papermill": {
     "duration": 0.081935,
     "end_time": "2022-04-20T08:25:55.402053",
     "exception": false,
     "start_time": "2022-04-20T08:25:55.320118",
     "status": "completed"
    },
    "tags": []
   },
   "outputs": [
    {
     "name": "stdout",
     "output_type": "stream",
     "text": [
      "<class 'pandas.core.frame.DataFrame'>\n",
      "RangeIndex: 19 entries, 0 to 18\n",
      "Data columns (total 6 columns):\n",
      " #   Column                   Non-Null Count  Dtype  \n",
      "---  ------                   --------------  -----  \n",
      " 0   Emitten                  19 non-null     object \n",
      " 1   DER                      19 non-null     float64\n",
      " 2   Operating Profit Margin  19 non-null     float64\n",
      " 3   Sales Growth             19 non-null     float64\n",
      " 4   Return On Asset          19 non-null     float64\n",
      " 5   Category                 0 non-null      float64\n",
      "dtypes: float64(5), object(1)\n",
      "memory usage: 1.0+ KB\n"
     ]
    }
   ],
   "source": [
    "df0 = pd.read_csv('../input/clustering-big-data/Clustering.csv')\n",
    "df0.info()"
   ]
  },
  {
   "cell_type": "code",
   "execution_count": 4,
   "id": "24c579fe",
   "metadata": {
    "execution": {
     "iopub.execute_input": "2022-04-20T08:25:55.496159Z",
     "iopub.status.busy": "2022-04-20T08:25:55.495234Z",
     "iopub.status.idle": "2022-04-20T08:25:55.528873Z",
     "shell.execute_reply": "2022-04-20T08:25:55.527929Z"
    },
    "papermill": {
     "duration": 0.082435,
     "end_time": "2022-04-20T08:25:55.531093",
     "exception": false,
     "start_time": "2022-04-20T08:25:55.448658",
     "status": "completed"
    },
    "tags": []
   },
   "outputs": [
    {
     "data": {
      "text/html": [
       "<div>\n",
       "<style scoped>\n",
       "    .dataframe tbody tr th:only-of-type {\n",
       "        vertical-align: middle;\n",
       "    }\n",
       "\n",
       "    .dataframe tbody tr th {\n",
       "        vertical-align: top;\n",
       "    }\n",
       "\n",
       "    .dataframe thead th {\n",
       "        text-align: right;\n",
       "    }\n",
       "</style>\n",
       "<table border=\"1\" class=\"dataframe\">\n",
       "  <thead>\n",
       "    <tr style=\"text-align: right;\">\n",
       "      <th></th>\n",
       "      <th>DER</th>\n",
       "      <th>Operating Profit Margin</th>\n",
       "      <th>Sales Growth</th>\n",
       "      <th>Return On Asset</th>\n",
       "      <th>Category</th>\n",
       "    </tr>\n",
       "  </thead>\n",
       "  <tbody>\n",
       "    <tr>\n",
       "      <th>count</th>\n",
       "      <td>19.000000</td>\n",
       "      <td>19.000000</td>\n",
       "      <td>19.000000</td>\n",
       "      <td>19.000000</td>\n",
       "      <td>0.0</td>\n",
       "    </tr>\n",
       "    <tr>\n",
       "      <th>mean</th>\n",
       "      <td>1.677137</td>\n",
       "      <td>-0.033534</td>\n",
       "      <td>1.251155</td>\n",
       "      <td>0.033923</td>\n",
       "      <td>NaN</td>\n",
       "    </tr>\n",
       "    <tr>\n",
       "      <th>std</th>\n",
       "      <td>2.615720</td>\n",
       "      <td>0.572822</td>\n",
       "      <td>0.325129</td>\n",
       "      <td>0.119803</td>\n",
       "      <td>NaN</td>\n",
       "    </tr>\n",
       "    <tr>\n",
       "      <th>min</th>\n",
       "      <td>-1.322743</td>\n",
       "      <td>-2.007213</td>\n",
       "      <td>0.637814</td>\n",
       "      <td>-0.178472</td>\n",
       "      <td>NaN</td>\n",
       "    </tr>\n",
       "    <tr>\n",
       "      <th>25%</th>\n",
       "      <td>0.443561</td>\n",
       "      <td>-0.013364</td>\n",
       "      <td>1.056122</td>\n",
       "      <td>-0.040850</td>\n",
       "      <td>NaN</td>\n",
       "    </tr>\n",
       "    <tr>\n",
       "      <th>50%</th>\n",
       "      <td>0.758859</td>\n",
       "      <td>0.150501</td>\n",
       "      <td>1.279567</td>\n",
       "      <td>0.043147</td>\n",
       "      <td>NaN</td>\n",
       "    </tr>\n",
       "    <tr>\n",
       "      <th>75%</th>\n",
       "      <td>1.542588</td>\n",
       "      <td>0.231707</td>\n",
       "      <td>1.404820</td>\n",
       "      <td>0.073551</td>\n",
       "      <td>NaN</td>\n",
       "    </tr>\n",
       "    <tr>\n",
       "      <th>max</th>\n",
       "      <td>10.614012</td>\n",
       "      <td>0.458206</td>\n",
       "      <td>1.898171</td>\n",
       "      <td>0.405886</td>\n",
       "      <td>NaN</td>\n",
       "    </tr>\n",
       "  </tbody>\n",
       "</table>\n",
       "</div>"
      ],
      "text/plain": [
       "             DER  Operating Profit Margin  Sales Growth  Return On Asset  \\\n",
       "count  19.000000                19.000000     19.000000        19.000000   \n",
       "mean    1.677137                -0.033534      1.251155         0.033923   \n",
       "std     2.615720                 0.572822      0.325129         0.119803   \n",
       "min    -1.322743                -2.007213      0.637814        -0.178472   \n",
       "25%     0.443561                -0.013364      1.056122        -0.040850   \n",
       "50%     0.758859                 0.150501      1.279567         0.043147   \n",
       "75%     1.542588                 0.231707      1.404820         0.073551   \n",
       "max    10.614012                 0.458206      1.898171         0.405886   \n",
       "\n",
       "       Category  \n",
       "count       0.0  \n",
       "mean        NaN  \n",
       "std         NaN  \n",
       "min         NaN  \n",
       "25%         NaN  \n",
       "50%         NaN  \n",
       "75%         NaN  \n",
       "max         NaN  "
      ]
     },
     "execution_count": 4,
     "metadata": {},
     "output_type": "execute_result"
    }
   ],
   "source": [
    "df0.describe()"
   ]
  },
  {
   "cell_type": "markdown",
   "id": "716d0afd",
   "metadata": {
    "papermill": {
     "duration": 0.047458,
     "end_time": "2022-04-20T08:25:55.625916",
     "exception": false,
     "start_time": "2022-04-20T08:25:55.578458",
     "status": "completed"
    },
    "tags": []
   },
   "source": [
    "# 1.2 Data Cleansing"
   ]
  },
  {
   "cell_type": "code",
   "execution_count": 5,
   "id": "276d26a4",
   "metadata": {
    "execution": {
     "iopub.execute_input": "2022-04-20T08:25:55.720634Z",
     "iopub.status.busy": "2022-04-20T08:25:55.719967Z",
     "iopub.status.idle": "2022-04-20T08:25:55.725288Z",
     "shell.execute_reply": "2022-04-20T08:25:55.724684Z"
    },
    "papermill": {
     "duration": 0.055269,
     "end_time": "2022-04-20T08:25:55.727299",
     "exception": false,
     "start_time": "2022-04-20T08:25:55.672030",
     "status": "completed"
    },
    "tags": []
   },
   "outputs": [],
   "source": [
    "df0.drop([\"Emitten\",\"Category\"], axis=1, inplace=True)"
   ]
  },
  {
   "cell_type": "markdown",
   "id": "832b1a24",
   "metadata": {
    "papermill": {
     "duration": 0.045852,
     "end_time": "2022-04-20T08:25:55.819596",
     "exception": false,
     "start_time": "2022-04-20T08:25:55.773744",
     "status": "completed"
    },
    "tags": []
   },
   "source": [
    "# 1.3 Scatter Plot"
   ]
  },
  {
   "cell_type": "code",
   "execution_count": 6,
   "id": "d2a24615",
   "metadata": {
    "execution": {
     "iopub.execute_input": "2022-04-20T08:25:55.914660Z",
     "iopub.status.busy": "2022-04-20T08:25:55.914117Z",
     "iopub.status.idle": "2022-04-20T08:25:57.896254Z",
     "shell.execute_reply": "2022-04-20T08:25:57.895348Z"
    },
    "papermill": {
     "duration": 2.031344,
     "end_time": "2022-04-20T08:25:57.898317",
     "exception": false,
     "start_time": "2022-04-20T08:25:55.866973",
     "status": "completed"
    },
    "tags": []
   },
   "outputs": [
    {
     "data": {
      "text/plain": [
       "<Figure size 1080x1080 with 0 Axes>"
      ]
     },
     "metadata": {},
     "output_type": "display_data"
    },
    {
     "data": {
      "image/png": "[encoded data removed]",
      "text/plain": [
       "<Figure size 540x540 with 12 Axes>"
      ]
     },
     "metadata": {
      "needs_background": "light"
     },
     "output_type": "display_data"
    }
   ],
   "source": [
    "plt.figure(figsize=(15, 15))\n",
    "sns.pairplot(df0, vars = df0.columns[1:13]);"
   ]
  },
  {
   "cell_type": "markdown",
   "id": "48b8b39d",
   "metadata": {
    "papermill": {
     "duration": 0.047489,
     "end_time": "2022-04-20T08:25:57.994461",
     "exception": false,
     "start_time": "2022-04-20T08:25:57.946972",
     "status": "completed"
    },
    "tags": []
   },
   "source": [
    "\n",
    "# 2. Clustering\n",
    "# 2.1 Load Data"
   ]
  },
  {
   "cell_type": "code",
   "execution_count": 7,
   "id": "e59e67e7",
   "metadata": {
    "execution": {
     "iopub.execute_input": "2022-04-20T08:25:58.092298Z",
     "iopub.status.busy": "2022-04-20T08:25:58.091927Z",
     "iopub.status.idle": "2022-04-20T08:25:58.119970Z",
     "shell.execute_reply": "2022-04-20T08:25:58.119342Z"
    },
    "papermill": {
     "duration": 0.078946,
     "end_time": "2022-04-20T08:25:58.121958",
     "exception": false,
     "start_time": "2022-04-20T08:25:58.043012",
     "status": "completed"
    },
    "tags": []
   },
   "outputs": [
    {
     "data": {
      "text/html": [
       "<div>\n",
       "<style scoped>\n",
       "    .dataframe tbody tr th:only-of-type {\n",
       "        vertical-align: middle;\n",
       "    }\n",
       "\n",
       "    .dataframe tbody tr th {\n",
       "        vertical-align: top;\n",
       "    }\n",
       "\n",
       "    .dataframe thead th {\n",
       "        text-align: right;\n",
       "    }\n",
       "</style>\n",
       "<table border=\"1\" class=\"dataframe\">\n",
       "  <thead>\n",
       "    <tr style=\"text-align: right;\">\n",
       "      <th></th>\n",
       "      <th>DER</th>\n",
       "      <th>Operating Profit Margin</th>\n",
       "      <th>Sales Growth</th>\n",
       "      <th>Return On Asset</th>\n",
       "      <th>Category</th>\n",
       "    </tr>\n",
       "  </thead>\n",
       "  <tbody>\n",
       "    <tr>\n",
       "      <th>count</th>\n",
       "      <td>19.000000</td>\n",
       "      <td>19.000000</td>\n",
       "      <td>19.000000</td>\n",
       "      <td>19.000000</td>\n",
       "      <td>0.0</td>\n",
       "    </tr>\n",
       "    <tr>\n",
       "      <th>mean</th>\n",
       "      <td>1.677137</td>\n",
       "      <td>-0.033534</td>\n",
       "      <td>1.251155</td>\n",
       "      <td>0.033923</td>\n",
       "      <td>NaN</td>\n",
       "    </tr>\n",
       "    <tr>\n",
       "      <th>std</th>\n",
       "      <td>2.615720</td>\n",
       "      <td>0.572822</td>\n",
       "      <td>0.325129</td>\n",
       "      <td>0.119803</td>\n",
       "      <td>NaN</td>\n",
       "    </tr>\n",
       "    <tr>\n",
       "      <th>min</th>\n",
       "      <td>-1.322743</td>\n",
       "      <td>-2.007213</td>\n",
       "      <td>0.637814</td>\n",
       "      <td>-0.178472</td>\n",
       "      <td>NaN</td>\n",
       "    </tr>\n",
       "    <tr>\n",
       "      <th>25%</th>\n",
       "      <td>0.443561</td>\n",
       "      <td>-0.013364</td>\n",
       "      <td>1.056122</td>\n",
       "      <td>-0.040850</td>\n",
       "      <td>NaN</td>\n",
       "    </tr>\n",
       "    <tr>\n",
       "      <th>50%</th>\n",
       "      <td>0.758859</td>\n",
       "      <td>0.150501</td>\n",
       "      <td>1.279567</td>\n",
       "      <td>0.043147</td>\n",
       "      <td>NaN</td>\n",
       "    </tr>\n",
       "    <tr>\n",
       "      <th>75%</th>\n",
       "      <td>1.542588</td>\n",
       "      <td>0.231707</td>\n",
       "      <td>1.404820</td>\n",
       "      <td>0.073551</td>\n",
       "      <td>NaN</td>\n",
       "    </tr>\n",
       "    <tr>\n",
       "      <th>max</th>\n",
       "      <td>10.614012</td>\n",
       "      <td>0.458206</td>\n",
       "      <td>1.898171</td>\n",
       "      <td>0.405886</td>\n",
       "      <td>NaN</td>\n",
       "    </tr>\n",
       "  </tbody>\n",
       "</table>\n",
       "</div>"
      ],
      "text/plain": [
       "             DER  Operating Profit Margin  Sales Growth  Return On Asset  \\\n",
       "count  19.000000                19.000000     19.000000        19.000000   \n",
       "mean    1.677137                -0.033534      1.251155         0.033923   \n",
       "std     2.615720                 0.572822      0.325129         0.119803   \n",
       "min    -1.322743                -2.007213      0.637814        -0.178472   \n",
       "25%     0.443561                -0.013364      1.056122        -0.040850   \n",
       "50%     0.758859                 0.150501      1.279567         0.043147   \n",
       "75%     1.542588                 0.231707      1.404820         0.073551   \n",
       "max    10.614012                 0.458206      1.898171         0.405886   \n",
       "\n",
       "       Category  \n",
       "count       0.0  \n",
       "mean        NaN  \n",
       "std         NaN  \n",
       "min         NaN  \n",
       "25%         NaN  \n",
       "50%         NaN  \n",
       "75%         NaN  \n",
       "max         NaN  "
      ]
     },
     "execution_count": 7,
     "metadata": {},
     "output_type": "execute_result"
    }
   ],
   "source": [
    "df0 = pd.read_csv('../input/clustering-big-data/Clustering.csv')\n",
    "df1 = df0[['DER','Operating Profit Margin' ,'Sales Growth','Return On Asset','Category']]\n",
    "df1.describe()"
   ]
  },
  {
   "cell_type": "code",
   "execution_count": 8,
   "id": "34ecd034",
   "metadata": {
    "execution": {
     "iopub.execute_input": "2022-04-20T08:25:58.221912Z",
     "iopub.status.busy": "2022-04-20T08:25:58.221234Z",
     "iopub.status.idle": "2022-04-20T08:25:58.519145Z",
     "shell.execute_reply": "2022-04-20T08:25:58.518405Z"
    },
    "papermill": {
     "duration": 0.350421,
     "end_time": "2022-04-20T08:25:58.521156",
     "exception": false,
     "start_time": "2022-04-20T08:25:58.170735",
     "status": "completed"
    },
    "tags": []
   },
   "outputs": [
    {
     "data": {
      "text/plain": [
       "<AxesSubplot:xlabel='Emitten', ylabel='Operating Profit Margin'>"
      ]
     },
     "execution_count": 8,
     "metadata": {},
     "output_type": "execute_result"
    },
    {
     "data": {
      "image/png": "[encoded data removed]",
      "text/plain": [
       "<Figure size 1296x288 with 1 Axes>"
      ]
     },
     "metadata": {
      "needs_background": "light"
     },
     "output_type": "display_data"
    }
   ],
   "source": [
    "plt.figure(figsize=(18, 4))\n",
    "plt.xticks(rotation=45)\n",
    "sns.scatterplot(x='Emitten', y='Operating Profit Margin', \n",
    "                data=df0, s=80)"
   ]
  },
  {
   "cell_type": "code",
   "execution_count": 9,
   "id": "8436498d",
   "metadata": {
    "execution": {
     "iopub.execute_input": "2022-04-20T08:25:58.623319Z",
     "iopub.status.busy": "2022-04-20T08:25:58.622801Z",
     "iopub.status.idle": "2022-04-20T08:25:59.048608Z",
     "shell.execute_reply": "2022-04-20T08:25:59.047537Z"
    },
    "papermill": {
     "duration": 0.480158,
     "end_time": "2022-04-20T08:25:59.051334",
     "exception": false,
     "start_time": "2022-04-20T08:25:58.571176",
     "status": "completed"
    },
    "tags": []
   },
   "outputs": [
    {
     "data": {
      "text/plain": [
       "<AxesSubplot:xlabel='Emitten', ylabel='DER'>"
      ]
     },
     "execution_count": 9,
     "metadata": {},
     "output_type": "execute_result"
    },
    {
     "data": {
      "image/png": "[encoded data removed]",
      "text/plain": [
       "<Figure size 1296x288 with 1 Axes>"
      ]
     },
     "metadata": {
      "needs_background": "light"
     },
     "output_type": "display_data"
    }
   ],
   "source": [
    "plt.figure(figsize=(18, 4))\n",
    "plt.xticks(rotation=45)\n",
    "sns.scatterplot(x='Emitten', y='DER', \n",
    "                data=df0, s=80)"
   ]
  },
  {
   "cell_type": "code",
   "execution_count": 10,
   "id": "c04a9761",
   "metadata": {
    "execution": {
     "iopub.execute_input": "2022-04-20T08:25:59.158067Z",
     "iopub.status.busy": "2022-04-20T08:25:59.157753Z",
     "iopub.status.idle": "2022-04-20T08:25:59.456918Z",
     "shell.execute_reply": "2022-04-20T08:25:59.456055Z"
    },
    "papermill": {
     "duration": 0.355771,
     "end_time": "2022-04-20T08:25:59.459365",
     "exception": false,
     "start_time": "2022-04-20T08:25:59.103594",
     "status": "completed"
    },
    "tags": []
   },
   "outputs": [
    {
     "data": {
      "text/plain": [
       "<AxesSubplot:xlabel='Emitten', ylabel='Sales Growth'>"
      ]
     },
     "execution_count": 10,
     "metadata": {},
     "output_type": "execute_result"
    },
    {
     "data": {
      "image/png": "[encoded data removed]",
      "text/plain": [
       "<Figure size 1296x288 with 1 Axes>"
      ]
     },
     "metadata": {
      "needs_background": "light"
     },
     "output_type": "display_data"
    }
   ],
   "source": [
    "plt.figure(figsize=(18, 4))\n",
    "plt.xticks(rotation=45)\n",
    "sns.scatterplot(x='Emitten', y='Sales Growth', \n",
    "                data=df0, s=80)"
   ]
  },
  {
   "cell_type": "markdown",
   "id": "11af4b83",
   "metadata": {
    "papermill": {
     "duration": 0.05462,
     "end_time": "2022-04-20T08:25:59.568005",
     "exception": false,
     "start_time": "2022-04-20T08:25:59.513385",
     "status": "completed"
    },
    "tags": []
   },
   "source": [
    "# 2.2 Outlier"
   ]
  },
  {
   "cell_type": "code",
   "execution_count": 11,
   "id": "a4c9094c",
   "metadata": {
    "execution": {
     "iopub.execute_input": "2022-04-20T08:25:59.677084Z",
     "iopub.status.busy": "2022-04-20T08:25:59.676737Z",
     "iopub.status.idle": "2022-04-20T08:25:59.686042Z",
     "shell.execute_reply": "2022-04-20T08:25:59.685077Z"
    },
    "papermill": {
     "duration": 0.06735,
     "end_time": "2022-04-20T08:25:59.688805",
     "exception": false,
     "start_time": "2022-04-20T08:25:59.621455",
     "status": "completed"
    },
    "tags": []
   },
   "outputs": [
    {
     "name": "stdout",
     "output_type": "stream",
     "text": [
      "Jumlah baris sebelum memfilter outlier: 19\n",
      "Jumlah baris setelah memfilter outlier: 18\n"
     ]
    }
   ],
   "source": [
    "print(f'Jumlah baris sebelum memfilter outlier: {len(df1)}')\n",
    "\n",
    "filtered_entries = np.array([False] * len(df1))\n",
    "for col in ['Operating Profit Margin']:\n",
    "    zscore = abs(stats.zscore(df1[col]))\n",
    "    filtered_entries = (zscore < 3) | filtered_entries\n",
    "    \n",
    "df1 = df1[filtered_entries]\n",
    "\n",
    "print(f'Jumlah baris setelah memfilter outlier: {len(df1)}')"
   ]
  },
  {
   "cell_type": "code",
   "execution_count": 12,
   "id": "355f3c60",
   "metadata": {
    "execution": {
     "iopub.execute_input": "2022-04-20T08:25:59.798560Z",
     "iopub.status.busy": "2022-04-20T08:25:59.798271Z",
     "iopub.status.idle": "2022-04-20T08:25:59.822971Z",
     "shell.execute_reply": "2022-04-20T08:25:59.822113Z"
    },
    "papermill": {
     "duration": 0.081768,
     "end_time": "2022-04-20T08:25:59.825153",
     "exception": false,
     "start_time": "2022-04-20T08:25:59.743385",
     "status": "completed"
    },
    "tags": []
   },
   "outputs": [
    {
     "data": {
      "text/html": [
       "<div>\n",
       "<style scoped>\n",
       "    .dataframe tbody tr th:only-of-type {\n",
       "        vertical-align: middle;\n",
       "    }\n",
       "\n",
       "    .dataframe tbody tr th {\n",
       "        vertical-align: top;\n",
       "    }\n",
       "\n",
       "    .dataframe thead th {\n",
       "        text-align: right;\n",
       "    }\n",
       "</style>\n",
       "<table border=\"1\" class=\"dataframe\">\n",
       "  <thead>\n",
       "    <tr style=\"text-align: right;\">\n",
       "      <th></th>\n",
       "      <th>DER</th>\n",
       "      <th>Operating Profit Margin</th>\n",
       "      <th>Sales Growth</th>\n",
       "      <th>Return On Asset</th>\n",
       "      <th>Category</th>\n",
       "    </tr>\n",
       "  </thead>\n",
       "  <tbody>\n",
       "    <tr>\n",
       "      <th>count</th>\n",
       "      <td>18.000000</td>\n",
       "      <td>18.000000</td>\n",
       "      <td>18.000000</td>\n",
       "      <td>18.000000</td>\n",
       "      <td>0.0</td>\n",
       "    </tr>\n",
       "    <tr>\n",
       "      <th>mean</th>\n",
       "      <td>1.701468</td>\n",
       "      <td>0.076115</td>\n",
       "      <td>1.240024</td>\n",
       "      <td>0.039138</td>\n",
       "      <td>NaN</td>\n",
       "    </tr>\n",
       "    <tr>\n",
       "      <th>std</th>\n",
       "      <td>2.689341</td>\n",
       "      <td>0.324893</td>\n",
       "      <td>0.330809</td>\n",
       "      <td>0.121038</td>\n",
       "      <td>NaN</td>\n",
       "    </tr>\n",
       "    <tr>\n",
       "      <th>min</th>\n",
       "      <td>-1.322743</td>\n",
       "      <td>-0.980925</td>\n",
       "      <td>0.637814</td>\n",
       "      <td>-0.178472</td>\n",
       "      <td>NaN</td>\n",
       "    </tr>\n",
       "    <tr>\n",
       "      <th>25%</th>\n",
       "      <td>0.419312</td>\n",
       "      <td>0.009941</td>\n",
       "      <td>1.055776</td>\n",
       "      <td>-0.020837</td>\n",
       "      <td>NaN</td>\n",
       "    </tr>\n",
       "    <tr>\n",
       "      <th>50%</th>\n",
       "      <td>0.757266</td>\n",
       "      <td>0.172038</td>\n",
       "      <td>1.276314</td>\n",
       "      <td>0.048089</td>\n",
       "      <td>NaN</td>\n",
       "    </tr>\n",
       "    <tr>\n",
       "      <th>75%</th>\n",
       "      <td>1.593823</td>\n",
       "      <td>0.233867</td>\n",
       "      <td>1.352702</td>\n",
       "      <td>0.077902</td>\n",
       "      <td>NaN</td>\n",
       "    </tr>\n",
       "    <tr>\n",
       "      <th>max</th>\n",
       "      <td>10.614012</td>\n",
       "      <td>0.458206</td>\n",
       "      <td>1.898171</td>\n",
       "      <td>0.405886</td>\n",
       "      <td>NaN</td>\n",
       "    </tr>\n",
       "  </tbody>\n",
       "</table>\n",
       "</div>"
      ],
      "text/plain": [
       "             DER  Operating Profit Margin  Sales Growth  Return On Asset  \\\n",
       "count  18.000000                18.000000     18.000000        18.000000   \n",
       "mean    1.701468                 0.076115      1.240024         0.039138   \n",
       "std     2.689341                 0.324893      0.330809         0.121038   \n",
       "min    -1.322743                -0.980925      0.637814        -0.178472   \n",
       "25%     0.419312                 0.009941      1.055776        -0.020837   \n",
       "50%     0.757266                 0.172038      1.276314         0.048089   \n",
       "75%     1.593823                 0.233867      1.352702         0.077902   \n",
       "max    10.614012                 0.458206      1.898171         0.405886   \n",
       "\n",
       "       Category  \n",
       "count       0.0  \n",
       "mean        NaN  \n",
       "std         NaN  \n",
       "min         NaN  \n",
       "25%         NaN  \n",
       "50%         NaN  \n",
       "75%         NaN  \n",
       "max         NaN  "
      ]
     },
     "execution_count": 12,
     "metadata": {},
     "output_type": "execute_result"
    }
   ],
   "source": [
    "df1.describe()"
   ]
  },
  {
   "cell_type": "markdown",
   "id": "a464f1e6",
   "metadata": {
    "papermill": {
     "duration": 0.054574,
     "end_time": "2022-04-20T08:25:59.934141",
     "exception": false,
     "start_time": "2022-04-20T08:25:59.879567",
     "status": "completed"
    },
    "tags": []
   },
   "source": [
    "# 2.3 Standardisasi Fitur"
   ]
  },
  {
   "cell_type": "code",
   "execution_count": 13,
   "id": "1f0ba84e",
   "metadata": {
    "execution": {
     "iopub.execute_input": "2022-04-20T08:26:00.046068Z",
     "iopub.status.busy": "2022-04-20T08:26:00.045735Z",
     "iopub.status.idle": "2022-04-20T08:26:00.214410Z",
     "shell.execute_reply": "2022-04-20T08:26:00.213524Z"
    },
    "papermill": {
     "duration": 0.227697,
     "end_time": "2022-04-20T08:26:00.216648",
     "exception": false,
     "start_time": "2022-04-20T08:25:59.988951",
     "status": "completed"
    },
    "tags": []
   },
   "outputs": [
    {
     "data": {
      "text/html": [
       "<div>\n",
       "<style scoped>\n",
       "    .dataframe tbody tr th:only-of-type {\n",
       "        vertical-align: middle;\n",
       "    }\n",
       "\n",
       "    .dataframe tbody tr th {\n",
       "        vertical-align: top;\n",
       "    }\n",
       "\n",
       "    .dataframe thead th {\n",
       "        text-align: right;\n",
       "    }\n",
       "</style>\n",
       "<table border=\"1\" class=\"dataframe\">\n",
       "  <thead>\n",
       "    <tr style=\"text-align: right;\">\n",
       "      <th></th>\n",
       "      <th>DER</th>\n",
       "      <th>Operating Profit Margin</th>\n",
       "      <th>Sales Growth</th>\n",
       "      <th>Return On Asset</th>\n",
       "    </tr>\n",
       "  </thead>\n",
       "  <tbody>\n",
       "    <tr>\n",
       "      <th>count</th>\n",
       "      <td>1.800000e+01</td>\n",
       "      <td>1.800000e+01</td>\n",
       "      <td>1.800000e+01</td>\n",
       "      <td>1.800000e+01</td>\n",
       "    </tr>\n",
       "    <tr>\n",
       "      <th>mean</th>\n",
       "      <td>-2.467162e-17</td>\n",
       "      <td>4.625929e-17</td>\n",
       "      <td>-2.698459e-16</td>\n",
       "      <td>3.083953e-17</td>\n",
       "    </tr>\n",
       "    <tr>\n",
       "      <th>std</th>\n",
       "      <td>1.028992e+00</td>\n",
       "      <td>1.028992e+00</td>\n",
       "      <td>1.028992e+00</td>\n",
       "      <td>1.028992e+00</td>\n",
       "    </tr>\n",
       "    <tr>\n",
       "      <th>min</th>\n",
       "      <td>-1.157119e+00</td>\n",
       "      <td>-3.347827e+00</td>\n",
       "      <td>-1.873192e+00</td>\n",
       "      <td>-1.849993e+00</td>\n",
       "    </tr>\n",
       "    <tr>\n",
       "      <th>25%</th>\n",
       "      <td>-4.905768e-01</td>\n",
       "      <td>-2.095839e-01</td>\n",
       "      <td>-5.731116e-01</td>\n",
       "      <td>-5.098703e-01</td>\n",
       "    </tr>\n",
       "    <tr>\n",
       "      <th>50%</th>\n",
       "      <td>-3.612694e-01</td>\n",
       "      <td>3.038043e-01</td>\n",
       "      <td>1.128796e-01</td>\n",
       "      <td>7.609588e-02</td>\n",
       "    </tr>\n",
       "    <tr>\n",
       "      <th>75%</th>\n",
       "      <td>-4.118713e-02</td>\n",
       "      <td>4.996275e-01</td>\n",
       "      <td>3.504885e-01</td>\n",
       "      <td>3.295530e-01</td>\n",
       "    </tr>\n",
       "    <tr>\n",
       "      <th>max</th>\n",
       "      <td>3.410104e+00</td>\n",
       "      <td>1.210151e+00</td>\n",
       "      <td>2.047184e+00</td>\n",
       "      <td>3.117884e+00</td>\n",
       "    </tr>\n",
       "  </tbody>\n",
       "</table>\n",
       "</div>"
      ],
      "text/plain": [
       "                DER  Operating Profit Margin  Sales Growth  Return On Asset\n",
       "count  1.800000e+01             1.800000e+01  1.800000e+01     1.800000e+01\n",
       "mean  -2.467162e-17             4.625929e-17 -2.698459e-16     3.083953e-17\n",
       "std    1.028992e+00             1.028992e+00  1.028992e+00     1.028992e+00\n",
       "min   -1.157119e+00            -3.347827e+00 -1.873192e+00    -1.849993e+00\n",
       "25%   -4.905768e-01            -2.095839e-01 -5.731116e-01    -5.098703e-01\n",
       "50%   -3.612694e-01             3.038043e-01  1.128796e-01     7.609588e-02\n",
       "75%   -4.118713e-02             4.996275e-01  3.504885e-01     3.295530e-01\n",
       "max    3.410104e+00             1.210151e+00  2.047184e+00     3.117884e+00"
      ]
     },
     "execution_count": 13,
     "metadata": {},
     "output_type": "execute_result"
    }
   ],
   "source": [
    "feats = ['DER','Operating Profit Margin','Sales Growth','Return On Asset']\n",
    "X = df1[feats].values\n",
    "y = df1['Category'].values\n",
    "\n",
    "from sklearn.preprocessing import StandardScaler\n",
    "X_std = StandardScaler().fit_transform(X)\n",
    "new_df = pd.DataFrame(data = X_std, columns = feats)\n",
    "new_df.describe()"
   ]
  },
  {
   "cell_type": "markdown",
   "id": "056cd8f9",
   "metadata": {
    "papermill": {
     "duration": 0.055382,
     "end_time": "2022-04-20T08:26:00.327864",
     "exception": false,
     "start_time": "2022-04-20T08:26:00.272482",
     "status": "completed"
    },
    "tags": []
   },
   "source": [
    "# 2.4 Lakukan K-means"
   ]
  },
  {
   "cell_type": "code",
   "execution_count": 14,
   "id": "b2300ed1",
   "metadata": {
    "execution": {
     "iopub.execute_input": "2022-04-20T08:26:00.441583Z",
     "iopub.status.busy": "2022-04-20T08:26:00.441290Z",
     "iopub.status.idle": "2022-04-20T08:26:00.744023Z",
     "shell.execute_reply": "2022-04-20T08:26:00.742855Z"
    },
    "papermill": {
     "duration": 0.363068,
     "end_time": "2022-04-20T08:26:00.746798",
     "exception": false,
     "start_time": "2022-04-20T08:26:00.383730",
     "status": "completed"
    },
    "tags": []
   },
   "outputs": [],
   "source": [
    "from sklearn.cluster import KMeans\n",
    "wcss=[]"
   ]
  },
  {
   "cell_type": "code",
   "execution_count": 15,
   "id": "690fda96",
   "metadata": {
    "execution": {
     "iopub.execute_input": "2022-04-20T08:26:00.862883Z",
     "iopub.status.busy": "2022-04-20T08:26:00.862571Z",
     "iopub.status.idle": "2022-04-20T08:26:00.868367Z",
     "shell.execute_reply": "2022-04-20T08:26:00.867502Z"
    },
    "papermill": {
     "duration": 0.065749,
     "end_time": "2022-04-20T08:26:00.870851",
     "exception": false,
     "start_time": "2022-04-20T08:26:00.805102",
     "status": "completed"
    },
    "tags": []
   },
   "outputs": [
    {
     "data": {
      "text/plain": [
       "(19, 6)"
      ]
     },
     "execution_count": 15,
     "metadata": {},
     "output_type": "execute_result"
    }
   ],
   "source": [
    "df0.shape"
   ]
  },
  {
   "cell_type": "code",
   "execution_count": 16,
   "id": "c9bd02fd",
   "metadata": {
    "execution": {
     "iopub.execute_input": "2022-04-20T08:26:00.983339Z",
     "iopub.status.busy": "2022-04-20T08:26:00.982739Z",
     "iopub.status.idle": "2022-04-20T08:26:01.507137Z",
     "shell.execute_reply": "2022-04-20T08:26:01.506191Z"
    },
    "papermill": {
     "duration": 0.583436,
     "end_time": "2022-04-20T08:26:01.509847",
     "exception": false,
     "start_time": "2022-04-20T08:26:00.926411",
     "status": "completed"
    },
    "tags": []
   },
   "outputs": [
    {
     "data": {
      "text/plain": [
       "[<matplotlib.lines.Line2D at 0x7f597d4aad50>]"
      ]
     },
     "execution_count": 16,
     "metadata": {},
     "output_type": "execute_result"
    },
    {
     "data": {
      "image/png": "[encoded data removed]",
      "text/plain": [
       "<Figure size 864x432 with 1 Axes>"
      ]
     },
     "metadata": {
      "needs_background": "light"
     },
     "output_type": "display_data"
    }
   ],
   "source": [
    "from sklearn.cluster import KMeans\n",
    "inertia = []\n",
    "\n",
    "for i in range(1, 11):\n",
    "  kmeans = KMeans(n_clusters=i, init='k-means++', max_iter=300, n_init=10, random_state=0)\n",
    "  kmeans.fit(new_df.values)\n",
    "  inertia.append(kmeans.inertia_)\n",
    "\n",
    "plt.figure(figsize=(12, 6))\n",
    "plt.plot(inertia) #Elbow Method"
   ]
  },
  {
   "cell_type": "markdown",
   "id": "c34248d4",
   "metadata": {
    "papermill": {
     "duration": 0.056513,
     "end_time": "2022-04-20T08:26:01.626453",
     "exception": false,
     "start_time": "2022-04-20T08:26:01.569940",
     "status": "completed"
    },
    "tags": []
   },
   "source": [
    "# 2.5 Pilih Jumlah Cluster"
   ]
  },
  {
   "cell_type": "code",
   "execution_count": 17,
   "id": "ede69732",
   "metadata": {
    "execution": {
     "iopub.execute_input": "2022-04-20T08:26:01.746919Z",
     "iopub.status.busy": "2022-04-20T08:26:01.746443Z",
     "iopub.status.idle": "2022-04-20T08:26:01.776214Z",
     "shell.execute_reply": "2022-04-20T08:26:01.775275Z"
    },
    "papermill": {
     "duration": 0.092554,
     "end_time": "2022-04-20T08:26:01.778814",
     "exception": false,
     "start_time": "2022-04-20T08:26:01.686260",
     "status": "completed"
    },
    "tags": []
   },
   "outputs": [
    {
     "data": {
      "text/plain": [
       "KMeans(n_clusters=5, random_state=0)"
      ]
     },
     "execution_count": 17,
     "metadata": {},
     "output_type": "execute_result"
    }
   ],
   "source": [
    "from sklearn.cluster import KMeans\n",
    "kmeans = KMeans(n_clusters=5, init='k-means++', max_iter=300, n_init=10, random_state=0)\n",
    "kmeans.fit(new_df.values)"
   ]
  },
  {
   "cell_type": "code",
   "execution_count": 18,
   "id": "7e0e4567",
   "metadata": {
    "execution": {
     "iopub.execute_input": "2022-04-20T08:26:01.898252Z",
     "iopub.status.busy": "2022-04-20T08:26:01.897930Z",
     "iopub.status.idle": "2022-04-20T08:26:01.904057Z",
     "shell.execute_reply": "2022-04-20T08:26:01.903184Z"
    },
    "papermill": {
     "duration": 0.068317,
     "end_time": "2022-04-20T08:26:01.906039",
     "exception": false,
     "start_time": "2022-04-20T08:26:01.837722",
     "status": "completed"
    },
    "tags": []
   },
   "outputs": [],
   "source": [
    "new_df['target'] = y\n",
    "new_df['fit'] = kmeans.labels_"
   ]
  },
  {
   "cell_type": "markdown",
   "id": "15b4f0b8",
   "metadata": {
    "papermill": {
     "duration": 0.057517,
     "end_time": "2022-04-20T08:26:02.022580",
     "exception": false,
     "start_time": "2022-04-20T08:26:01.965063",
     "status": "completed"
    },
    "tags": []
   },
   "source": [
    "# 2.6 Plot Cluster"
   ]
  },
  {
   "cell_type": "code",
   "execution_count": 19,
   "id": "910a4570",
   "metadata": {
    "execution": {
     "iopub.execute_input": "2022-04-20T08:26:02.139117Z",
     "iopub.status.busy": "2022-04-20T08:26:02.138387Z",
     "iopub.status.idle": "2022-04-20T08:26:02.309287Z",
     "shell.execute_reply": "2022-04-20T08:26:02.308349Z"
    },
    "papermill": {
     "duration": 0.232224,
     "end_time": "2022-04-20T08:26:02.311857",
     "exception": false,
     "start_time": "2022-04-20T08:26:02.079633",
     "status": "completed"
    },
    "tags": []
   },
   "outputs": [
    {
     "data": {
      "image/png": "[encoded data removed]",
      "text/plain": [
       "<Figure size 576x576 with 1 Axes>"
      ]
     },
     "metadata": {
      "needs_background": "light"
     },
     "output_type": "display_data"
    }
   ],
   "source": [
    "plt.rcParams[\"figure.figsize\"] = (8, 8)\n",
    "sns.scatterplot(x='DER', y='Operating Profit Margin', hue=new_df.target.to_list(), data=new_df);"
   ]
  },
  {
   "cell_type": "code",
   "execution_count": 20,
   "id": "dee7860f",
   "metadata": {
    "execution": {
     "iopub.execute_input": "2022-04-20T08:26:02.432732Z",
     "iopub.status.busy": "2022-04-20T08:26:02.432432Z",
     "iopub.status.idle": "2022-04-20T08:26:02.446465Z",
     "shell.execute_reply": "2022-04-20T08:26:02.445409Z"
    },
    "papermill": {
     "duration": 0.077303,
     "end_time": "2022-04-20T08:26:02.448755",
     "exception": false,
     "start_time": "2022-04-20T08:26:02.371452",
     "status": "completed"
    },
    "tags": []
   },
   "outputs": [
    {
     "data": {
      "text/html": [
       "<div>\n",
       "<style scoped>\n",
       "    .dataframe tbody tr th:only-of-type {\n",
       "        vertical-align: middle;\n",
       "    }\n",
       "\n",
       "    .dataframe tbody tr th {\n",
       "        vertical-align: top;\n",
       "    }\n",
       "\n",
       "    .dataframe thead th {\n",
       "        text-align: right;\n",
       "    }\n",
       "</style>\n",
       "<table border=\"1\" class=\"dataframe\">\n",
       "  <thead>\n",
       "    <tr style=\"text-align: right;\">\n",
       "      <th></th>\n",
       "      <th>DER</th>\n",
       "      <th>Operating Profit Margin</th>\n",
       "      <th>Sales Growth</th>\n",
       "      <th>Return On Asset</th>\n",
       "      <th>target</th>\n",
       "      <th>fit</th>\n",
       "    </tr>\n",
       "  </thead>\n",
       "  <tbody>\n",
       "    <tr>\n",
       "      <th>0</th>\n",
       "      <td>-0.599301</td>\n",
       "      <td>0.186989</td>\n",
       "      <td>0.165534</td>\n",
       "      <td>0.218572</td>\n",
       "      <td>NaN</td>\n",
       "      <td>2</td>\n",
       "    </tr>\n",
       "    <tr>\n",
       "      <th>1</th>\n",
       "      <td>-0.360660</td>\n",
       "      <td>-0.445530</td>\n",
       "      <td>-1.261053</td>\n",
       "      <td>-0.885094</td>\n",
       "      <td>NaN</td>\n",
       "      <td>2</td>\n",
       "    </tr>\n",
       "    <tr>\n",
       "      <th>2</th>\n",
       "      <td>-0.499855</td>\n",
       "      <td>0.506469</td>\n",
       "      <td>1.199933</td>\n",
       "      <td>0.188653</td>\n",
       "      <td>NaN</td>\n",
       "      <td>0</td>\n",
       "    </tr>\n",
       "    <tr>\n",
       "      <th>3</th>\n",
       "      <td>-0.650775</td>\n",
       "      <td>0.479104</td>\n",
       "      <td>-1.375781</td>\n",
       "      <td>0.682278</td>\n",
       "      <td>NaN</td>\n",
       "      <td>2</td>\n",
       "    </tr>\n",
       "    <tr>\n",
       "      <th>4</th>\n",
       "      <td>0.694736</td>\n",
       "      <td>-1.546598</td>\n",
       "      <td>0.299837</td>\n",
       "      <td>-1.323296</td>\n",
       "      <td>NaN</td>\n",
       "      <td>1</td>\n",
       "    </tr>\n",
       "  </tbody>\n",
       "</table>\n",
       "</div>"
      ],
      "text/plain": [
       "        DER  Operating Profit Margin  Sales Growth  Return On Asset  target  \\\n",
       "0 -0.599301                 0.186989      0.165534         0.218572     NaN   \n",
       "1 -0.360660                -0.445530     -1.261053        -0.885094     NaN   \n",
       "2 -0.499855                 0.506469      1.199933         0.188653     NaN   \n",
       "3 -0.650775                 0.479104     -1.375781         0.682278     NaN   \n",
       "4  0.694736                -1.546598      0.299837        -1.323296     NaN   \n",
       "\n",
       "   fit  \n",
       "0    2  \n",
       "1    2  \n",
       "2    0  \n",
       "3    2  \n",
       "4    1  "
      ]
     },
     "execution_count": 20,
     "metadata": {},
     "output_type": "execute_result"
    }
   ],
   "source": [
    "new_df.head(5)"
   ]
  },
  {
   "cell_type": "code",
   "execution_count": 21,
   "id": "fdf31f21",
   "metadata": {
    "execution": {
     "iopub.execute_input": "2022-04-20T08:26:02.570931Z",
     "iopub.status.busy": "2022-04-20T08:26:02.570622Z",
     "iopub.status.idle": "2022-04-20T08:26:02.590569Z",
     "shell.execute_reply": "2022-04-20T08:26:02.589865Z"
    },
    "papermill": {
     "duration": 0.083438,
     "end_time": "2022-04-20T08:26:02.592750",
     "exception": false,
     "start_time": "2022-04-20T08:26:02.509312",
     "status": "completed"
    },
    "tags": []
   },
   "outputs": [
    {
     "data": {
      "text/html": [
       "<div>\n",
       "<style scoped>\n",
       "    .dataframe tbody tr th:only-of-type {\n",
       "        vertical-align: middle;\n",
       "    }\n",
       "\n",
       "    .dataframe tbody tr th {\n",
       "        vertical-align: top;\n",
       "    }\n",
       "\n",
       "    .dataframe thead th {\n",
       "        text-align: right;\n",
       "    }\n",
       "</style>\n",
       "<table border=\"1\" class=\"dataframe\">\n",
       "  <thead>\n",
       "    <tr style=\"text-align: right;\">\n",
       "      <th></th>\n",
       "      <th>Category</th>\n",
       "      <th>DER</th>\n",
       "      <th>Operating Profit Margin</th>\n",
       "      <th>Sales Growth</th>\n",
       "      <th>Return On Asset</th>\n",
       "      <th>target</th>\n",
       "      <th>fit</th>\n",
       "    </tr>\n",
       "  </thead>\n",
       "  <tbody>\n",
       "    <tr>\n",
       "      <th>0</th>\n",
       "      <td>1</td>\n",
       "      <td>-0.599301</td>\n",
       "      <td>0.186989</td>\n",
       "      <td>0.165534</td>\n",
       "      <td>0.218572</td>\n",
       "      <td>NaN</td>\n",
       "      <td>2</td>\n",
       "    </tr>\n",
       "    <tr>\n",
       "      <th>1</th>\n",
       "      <td>1</td>\n",
       "      <td>-0.360660</td>\n",
       "      <td>-0.445530</td>\n",
       "      <td>-1.261053</td>\n",
       "      <td>-0.885094</td>\n",
       "      <td>NaN</td>\n",
       "      <td>2</td>\n",
       "    </tr>\n",
       "    <tr>\n",
       "      <th>2</th>\n",
       "      <td>2</td>\n",
       "      <td>-0.499855</td>\n",
       "      <td>0.506469</td>\n",
       "      <td>1.199933</td>\n",
       "      <td>0.188653</td>\n",
       "      <td>NaN</td>\n",
       "      <td>0</td>\n",
       "    </tr>\n",
       "    <tr>\n",
       "      <th>3</th>\n",
       "      <td>1</td>\n",
       "      <td>-0.650775</td>\n",
       "      <td>0.479104</td>\n",
       "      <td>-1.375781</td>\n",
       "      <td>0.682278</td>\n",
       "      <td>NaN</td>\n",
       "      <td>2</td>\n",
       "    </tr>\n",
       "    <tr>\n",
       "      <th>4</th>\n",
       "      <td>4</td>\n",
       "      <td>0.694736</td>\n",
       "      <td>-1.546598</td>\n",
       "      <td>0.299837</td>\n",
       "      <td>-1.323296</td>\n",
       "      <td>NaN</td>\n",
       "      <td>1</td>\n",
       "    </tr>\n",
       "  </tbody>\n",
       "</table>\n",
       "</div>"
      ],
      "text/plain": [
       "   Category       DER  Operating Profit Margin  Sales Growth  Return On Asset  \\\n",
       "0         1 -0.599301                 0.186989      0.165534         0.218572   \n",
       "1         1 -0.360660                -0.445530     -1.261053        -0.885094   \n",
       "2         2 -0.499855                 0.506469      1.199933         0.188653   \n",
       "3         1 -0.650775                 0.479104     -1.375781         0.682278   \n",
       "4         4  0.694736                -1.546598      0.299837        -1.323296   \n",
       "\n",
       "   target  fit  \n",
       "0     NaN    2  \n",
       "1     NaN    2  \n",
       "2     NaN    0  \n",
       "3     NaN    2  \n",
       "4     NaN    1  "
      ]
     },
     "execution_count": 21,
     "metadata": {},
     "output_type": "execute_result"
    }
   ],
   "source": [
    "new_df.insert(0,\"Category\",np.nan,True)\n",
    "new_df.loc[new_df['fit'] == 0, 'Category'] = 2\n",
    "new_df.loc[new_df['fit'] == 1, 'Category'] = 4\n",
    "new_df.loc[new_df['fit'] == 2, 'Category'] = 1\n",
    "new_df.loc[new_df['fit'] == 3, 'Category'] = 0\n",
    "new_df.loc[new_df['fit'] == 4, 'Category'] = 3\n",
    "new_df['Category'] = new_df['Category'].astype(int)\n",
    "new_df.head(5)"
   ]
  },
  {
   "cell_type": "code",
   "execution_count": 22,
   "id": "a9f5a3aa",
   "metadata": {
    "execution": {
     "iopub.execute_input": "2022-04-20T08:26:02.713586Z",
     "iopub.status.busy": "2022-04-20T08:26:02.713063Z",
     "iopub.status.idle": "2022-04-20T08:26:02.726525Z",
     "shell.execute_reply": "2022-04-20T08:26:02.725837Z"
    },
    "papermill": {
     "duration": 0.076199,
     "end_time": "2022-04-20T08:26:02.728551",
     "exception": false,
     "start_time": "2022-04-20T08:26:02.652352",
     "status": "completed"
    },
    "tags": []
   },
   "outputs": [
    {
     "name": "stdout",
     "output_type": "stream",
     "text": [
      "<class 'pandas.core.frame.DataFrame'>\n",
      "RangeIndex: 18 entries, 0 to 17\n",
      "Data columns (total 5 columns):\n",
      " #   Column                         Non-Null Count  Dtype  \n",
      "---  ------                         --------------  -----  \n",
      " 0   Category                       18 non-null     int64  \n",
      " 1   DER (St.)                      18 non-null     float64\n",
      " 2   Operating Profit Margin (St.)  18 non-null     float64\n",
      " 3   Sales Growth (St.)             18 non-null     float64\n",
      " 4   Return On Asset (St.)          18 non-null     float64\n",
      "dtypes: float64(4), int64(1)\n",
      "memory usage: 848.0 bytes\n"
     ]
    }
   ],
   "source": [
    "new_df.drop([\"fit\",\"target\"], axis=1, inplace=True)\n",
    "new_df.columns = ['Category','DER (St.)','Operating Profit Margin (St.)','Sales Growth (St.)','Return On Asset (St.)']\n",
    "new_df.info()"
   ]
  },
  {
   "cell_type": "markdown",
   "id": "3402bfc0",
   "metadata": {
    "papermill": {
     "duration": 0.059384,
     "end_time": "2022-04-20T08:26:02.847421",
     "exception": false,
     "start_time": "2022-04-20T08:26:02.788037",
     "status": "completed"
    },
    "tags": []
   },
   "source": [
    "# 2.6.1 3D Scatter Plot"
   ]
  },
  {
   "cell_type": "code",
   "execution_count": 23,
   "id": "c686442c",
   "metadata": {
    "execution": {
     "iopub.execute_input": "2022-04-20T08:26:02.970796Z",
     "iopub.status.busy": "2022-04-20T08:26:02.969963Z",
     "iopub.status.idle": "2022-04-20T08:26:03.462721Z",
     "shell.execute_reply": "2022-04-20T08:26:03.461725Z"
    },
    "papermill": {
     "duration": 0.558182,
     "end_time": "2022-04-20T08:26:03.465626",
     "exception": false,
     "start_time": "2022-04-20T08:26:02.907444",
     "status": "completed"
    },
    "tags": []
   },
   "outputs": [
    {
     "data": {
      "image/png": "[encoded data removed]",
      "text/plain": [
       "<Figure size 576x576 with 1 Axes>"
      ]
     },
     "metadata": {
      "needs_background": "light"
     },
     "output_type": "display_data"
    }
   ],
   "source": [
    "from mpl_toolkits.mplot3d import Axes3D\n",
    "\n",
    "fig = plt.figure()\n",
    "ax = fig.add_subplot(111, projection = '3d')\n",
    "\n",
    "\n",
    "x = new_df['DER (St.)']\n",
    "y = new_df['Operating Profit Margin (St.)']\n",
    "z = new_df['Sales Growth (St.)']\n",
    "\n",
    "ax.set_xlabel(\"DER (St.)\")\n",
    "ax.set_ylabel(\"Operating Profit Margin (St.)\")\n",
    "ax.set_zlabel(\"Sales Growth (St.)\")\n",
    "\n",
    "cmap = ListedColormap(sns.color_palette(\"RdYlGn\", 256).as_hex())\n",
    "\n",
    "sc = ax.scatter(x, y, z, s=40, c=new_df['Category'], marker='o', cmap=cmap, alpha=1)\n",
    "plt.legend(*sc.legend_elements(), bbox_to_anchor=(1.05, 1), loc=2)\n",
    "\n",
    "plt.show()"
   ]
  },
  {
   "cell_type": "markdown",
   "id": "c84a03cc",
   "metadata": {
    "papermill": {
     "duration": 0.06461,
     "end_time": "2022-04-20T08:26:03.595291",
     "exception": false,
     "start_time": "2022-04-20T08:26:03.530681",
     "status": "completed"
    },
    "tags": []
   },
   "source": [
    "# 2.6.2 X vs Z View"
   ]
  },
  {
   "cell_type": "code",
   "execution_count": 24,
   "id": "ad297533",
   "metadata": {
    "execution": {
     "iopub.execute_input": "2022-04-20T08:26:03.723436Z",
     "iopub.status.busy": "2022-04-20T08:26:03.722622Z",
     "iopub.status.idle": "2022-04-20T08:26:04.011711Z",
     "shell.execute_reply": "2022-04-20T08:26:04.010844Z"
    },
    "papermill": {
     "duration": 0.355491,
     "end_time": "2022-04-20T08:26:04.014071",
     "exception": false,
     "start_time": "2022-04-20T08:26:03.658580",
     "status": "completed"
    },
    "tags": []
   },
   "outputs": [
    {
     "data": {
      "image/png": "[encoded data removed]",
      "text/plain": [
       "<Figure size 576x576 with 1 Axes>"
      ]
     },
     "metadata": {
      "needs_background": "light"
     },
     "output_type": "display_data"
    }
   ],
   "source": [
    "# color palette as dictionary\n",
    "palette = {0:\"tab:red\",\n",
    "           1:\"tab:orange\", \n",
    "           2:\"yellow\",\n",
    "           3:\"lime\",\n",
    "           4:\"darkgreen\"}\n",
    "\n",
    "sns.scatterplot(x='DER (St.)', y='Sales Growth (St.)', \n",
    "                hue='Category', data=new_df, s=80,\n",
    "                palette=palette)\n",
    "plt.title(\"DER vs Sales Growth (Standardisasi)\", fontsize=18, y=1.05)\n",
    "plt.show()"
   ]
  },
  {
   "cell_type": "markdown",
   "id": "51894eb9",
   "metadata": {
    "papermill": {
     "duration": 0.063272,
     "end_time": "2022-04-20T08:26:04.141541",
     "exception": false,
     "start_time": "2022-04-20T08:26:04.078269",
     "status": "completed"
    },
    "tags": []
   },
   "source": [
    "# 2.6.3 Y vs Z View"
   ]
  },
  {
   "cell_type": "code",
   "execution_count": 25,
   "id": "8b9923fd",
   "metadata": {
    "execution": {
     "iopub.execute_input": "2022-04-20T08:26:04.271240Z",
     "iopub.status.busy": "2022-04-20T08:26:04.270929Z",
     "iopub.status.idle": "2022-04-20T08:26:04.566141Z",
     "shell.execute_reply": "2022-04-20T08:26:04.564972Z"
    },
    "papermill": {
     "duration": 0.363357,
     "end_time": "2022-04-20T08:26:04.569602",
     "exception": false,
     "start_time": "2022-04-20T08:26:04.206245",
     "status": "completed"
    },
    "tags": []
   },
   "outputs": [
    {
     "data": {
      "image/png": "[encoded data removed]",
      "text/plain": [
       "<Figure size 576x576 with 1 Axes>"
      ]
     },
     "metadata": {
      "needs_background": "light"
     },
     "output_type": "display_data"
    }
   ],
   "source": [
    "sns.scatterplot(x='Operating Profit Margin (St.)', y='Sales Growth (St.)', \n",
    "                hue='Category', data=new_df, s=80,\n",
    "                palette=palette)\n",
    "plt.title(\"Operating Profit Margin vs Sales Growth (Standardisasi)\", fontsize=18, y=1.05)\n",
    "plt.show()"
   ]
  },
  {
   "cell_type": "markdown",
   "id": "629f7b5e",
   "metadata": {
    "papermill": {
     "duration": 0.064628,
     "end_time": "2022-04-20T08:26:04.712538",
     "exception": false,
     "start_time": "2022-04-20T08:26:04.647910",
     "status": "completed"
    },
    "tags": []
   },
   "source": [
    "# 2.6.4 X vs Y View"
   ]
  },
  {
   "cell_type": "code",
   "execution_count": 26,
   "id": "67dc9692",
   "metadata": {
    "execution": {
     "iopub.execute_input": "2022-04-20T08:26:04.843574Z",
     "iopub.status.busy": "2022-04-20T08:26:04.843184Z",
     "iopub.status.idle": "2022-04-20T08:26:05.119896Z",
     "shell.execute_reply": "2022-04-20T08:26:05.118902Z"
    },
    "papermill": {
     "duration": 0.345416,
     "end_time": "2022-04-20T08:26:05.122533",
     "exception": false,
     "start_time": "2022-04-20T08:26:04.777117",
     "status": "completed"
    },
    "tags": []
   },
   "outputs": [
    {
     "data": {
      "image/png": "[encoded data removed]",
      "text/plain": [
       "<Figure size 576x576 with 1 Axes>"
      ]
     },
     "metadata": {
      "needs_background": "light"
     },
     "output_type": "display_data"
    }
   ],
   "source": [
    "sns.scatterplot(x='DER (St.)', y='Operating Profit Margin (St.)', \n",
    "                hue='Category', data=new_df, s=80,\n",
    "                palette=palette)\n",
    "plt.title(\"DER vs Operating Profit Margin (Standardisasi)\", fontsize=18, y=1.05)\n",
    "plt.show()"
   ]
  },
  {
   "cell_type": "markdown",
   "id": "711fec58",
   "metadata": {
    "papermill": {
     "duration": 0.070057,
     "end_time": "2022-04-20T08:26:05.263029",
     "exception": false,
     "start_time": "2022-04-20T08:26:05.192972",
     "status": "completed"
    },
    "tags": []
   },
   "source": [
    "# 3. Export Result"
   ]
  },
  {
   "cell_type": "code",
   "execution_count": 27,
   "id": "42a5fd47",
   "metadata": {
    "execution": {
     "iopub.execute_input": "2022-04-20T08:26:05.399491Z",
     "iopub.status.busy": "2022-04-20T08:26:05.399158Z",
     "iopub.status.idle": "2022-04-20T08:26:05.408236Z",
     "shell.execute_reply": "2022-04-20T08:26:05.407532Z"
    },
    "papermill": {
     "duration": 0.079982,
     "end_time": "2022-04-20T08:26:05.410712",
     "exception": false,
     "start_time": "2022-04-20T08:26:05.330730",
     "status": "completed"
    },
    "tags": []
   },
   "outputs": [],
   "source": [
    "# drop these row indexes\n",
    "# from dataFrame\n",
    "index_names = df0[ df0['Emitten'] == 'ARTO' ].index\n",
    "df0.drop(index_names, inplace = True)\n",
    "df0.reset_index(drop=True, inplace=True)\n",
    "df0.drop([\"Category\"\n",
    "         ], axis=1, inplace=True)"
   ]
  },
  {
   "cell_type": "code",
   "execution_count": 28,
   "id": "ce02b152",
   "metadata": {
    "execution": {
     "iopub.execute_input": "2022-04-20T08:26:05.550222Z",
     "iopub.status.busy": "2022-04-20T08:26:05.549271Z",
     "iopub.status.idle": "2022-04-20T08:26:05.577430Z",
     "shell.execute_reply": "2022-04-20T08:26:05.576821Z"
    },
    "papermill": {
     "duration": 0.097388,
     "end_time": "2022-04-20T08:26:05.579455",
     "exception": false,
     "start_time": "2022-04-20T08:26:05.482067",
     "status": "completed"
    },
    "tags": []
   },
   "outputs": [
    {
     "data": {
      "text/html": [
       "<div>\n",
       "<style scoped>\n",
       "    .dataframe tbody tr th:only-of-type {\n",
       "        vertical-align: middle;\n",
       "    }\n",
       "\n",
       "    .dataframe tbody tr th {\n",
       "        vertical-align: top;\n",
       "    }\n",
       "\n",
       "    .dataframe thead th {\n",
       "        text-align: right;\n",
       "    }\n",
       "</style>\n",
       "<table border=\"1\" class=\"dataframe\">\n",
       "  <thead>\n",
       "    <tr style=\"text-align: right;\">\n",
       "      <th></th>\n",
       "      <th>Industry</th>\n",
       "      <th>Company</th>\n",
       "      <th>Category</th>\n",
       "      <th>DER (St.)</th>\n",
       "      <th>Operating Profit Margin (St.)</th>\n",
       "      <th>Sales Growth (St.)</th>\n",
       "      <th>Return On Asset (St.)</th>\n",
       "      <th>Emitten</th>\n",
       "      <th>DER</th>\n",
       "      <th>Operating Profit Margin</th>\n",
       "      <th>Sales Growth</th>\n",
       "      <th>Return On Asset</th>\n",
       "    </tr>\n",
       "  </thead>\n",
       "  <tbody>\n",
       "    <tr>\n",
       "      <th>0</th>\n",
       "      <td>Pertanian</td>\n",
       "      <td>PT Astra Agro Lestari Tbk (AALI.JK)</td>\n",
       "      <td>1.0</td>\n",
       "      <td>-0.599301</td>\n",
       "      <td>0.186989</td>\n",
       "      <td>0.165534</td>\n",
       "      <td>0.218572</td>\n",
       "      <td>AALI.JK</td>\n",
       "      <td>0.135154</td>\n",
       "      <td>0.135154</td>\n",
       "      <td>1.293241</td>\n",
       "      <td>0.064848</td>\n",
       "    </tr>\n",
       "    <tr>\n",
       "      <th>1</th>\n",
       "      <td>Pertanian</td>\n",
       "      <td>PT. Andira Agro, Tbk (ANDI.JK)</td>\n",
       "      <td>1.0</td>\n",
       "      <td>-0.360660</td>\n",
       "      <td>-0.445530</td>\n",
       "      <td>-1.261053</td>\n",
       "      <td>-0.885094</td>\n",
       "      <td>ANDI.JK</td>\n",
       "      <td>0.758859</td>\n",
       "      <td>-0.064557</td>\n",
       "      <td>0.834610</td>\n",
       "      <td>-0.064974</td>\n",
       "    </tr>\n",
       "    <tr>\n",
       "      <th>2</th>\n",
       "      <td>Pertanian</td>\n",
       "      <td>PT Austindo Nusantara Jaya Tbk (ANJT.JK)</td>\n",
       "      <td>2.0</td>\n",
       "      <td>-0.499855</td>\n",
       "      <td>0.506469</td>\n",
       "      <td>1.199933</td>\n",
       "      <td>0.188653</td>\n",
       "      <td>ANJT.JK</td>\n",
       "      <td>0.395062</td>\n",
       "      <td>0.236027</td>\n",
       "      <td>1.625789</td>\n",
       "      <td>0.061328</td>\n",
       "    </tr>\n",
       "    <tr>\n",
       "      <th>3</th>\n",
       "      <td>Pertanian</td>\n",
       "      <td>PT BISI International Tbk (BISI.JK)</td>\n",
       "      <td>1.0</td>\n",
       "      <td>-0.650775</td>\n",
       "      <td>0.479104</td>\n",
       "      <td>-1.375781</td>\n",
       "      <td>0.682278</td>\n",
       "      <td>BISI.JK</td>\n",
       "      <td>0.000624</td>\n",
       "      <td>0.227386</td>\n",
       "      <td>0.797727</td>\n",
       "      <td>0.119392</td>\n",
       "    </tr>\n",
       "    <tr>\n",
       "      <th>4</th>\n",
       "      <td>Pertanian</td>\n",
       "      <td>PT Bumi Teknokultura Unggul Tbk (BTEK.JK)</td>\n",
       "      <td>4.0</td>\n",
       "      <td>0.694736</td>\n",
       "      <td>-1.546598</td>\n",
       "      <td>0.299837</td>\n",
       "      <td>-1.323296</td>\n",
       "      <td>BTEK.JK</td>\n",
       "      <td>1.239184</td>\n",
       "      <td>-2.007213</td>\n",
       "      <td>1.451510</td>\n",
       "      <td>-0.059932</td>\n",
       "    </tr>\n",
       "    <tr>\n",
       "      <th>5</th>\n",
       "      <td>Pertanian</td>\n",
       "      <td>PT Eagle High Plantations Tbk (BWPT.JK)</td>\n",
       "      <td>0.0</td>\n",
       "      <td>1.293972</td>\n",
       "      <td>0.808185</td>\n",
       "      <td>-0.574191</td>\n",
       "      <td>3.117884</td>\n",
       "      <td>BWPT.JK</td>\n",
       "      <td>3.517208</td>\n",
       "      <td>-0.412206</td>\n",
       "      <td>1.336419</td>\n",
       "      <td>-0.116518</td>\n",
       "    </tr>\n",
       "  </tbody>\n",
       "</table>\n",
       "</div>"
      ],
      "text/plain": [
       "    Industry                                    Company  Category  DER (St.)  \\\n",
       "0  Pertanian        PT Astra Agro Lestari Tbk (AALI.JK)       1.0  -0.599301   \n",
       "1  Pertanian             PT. Andira Agro, Tbk (ANDI.JK)       1.0  -0.360660   \n",
       "2  Pertanian   PT Austindo Nusantara Jaya Tbk (ANJT.JK)       2.0  -0.499855   \n",
       "3  Pertanian        PT BISI International Tbk (BISI.JK)       1.0  -0.650775   \n",
       "4  Pertanian  PT Bumi Teknokultura Unggul Tbk (BTEK.JK)       4.0   0.694736   \n",
       "5  Pertanian    PT Eagle High Plantations Tbk (BWPT.JK)       0.0   1.293972   \n",
       "\n",
       "   Operating Profit Margin (St.)  Sales Growth (St.)  Return On Asset (St.)  \\\n",
       "0                       0.186989            0.165534               0.218572   \n",
       "1                      -0.445530           -1.261053              -0.885094   \n",
       "2                       0.506469            1.199933               0.188653   \n",
       "3                       0.479104           -1.375781               0.682278   \n",
       "4                      -1.546598            0.299837              -1.323296   \n",
       "5                       0.808185           -0.574191               3.117884   \n",
       "\n",
       "   Emitten       DER  Operating Profit Margin  Sales Growth  Return On Asset  \n",
       "0  AALI.JK  0.135154                 0.135154      1.293241         0.064848  \n",
       "1  ANDI.JK  0.758859                -0.064557      0.834610        -0.064974  \n",
       "2  ANJT.JK  0.395062                 0.236027      1.625789         0.061328  \n",
       "3  BISI.JK  0.000624                 0.227386      0.797727         0.119392  \n",
       "4  BTEK.JK  1.239184                -2.007213      1.451510        -0.059932  \n",
       "5  BWPT.JK  3.517208                -0.412206      1.336419        -0.116518  "
      ]
     },
     "execution_count": 28,
     "metadata": {},
     "output_type": "execute_result"
    }
   ],
   "source": [
    "dftemp = pd.read_csv('../input/clustering-big-data/Emitten.csv')\n",
    "df = pd.concat([dftemp, new_df, df0], axis=1)\n",
    "df.head(6)"
   ]
  },
  {
   "cell_type": "code",
   "execution_count": 29,
   "id": "3151a538",
   "metadata": {
    "execution": {
     "iopub.execute_input": "2022-04-20T08:26:05.714125Z",
     "iopub.status.busy": "2022-04-20T08:26:05.713236Z",
     "iopub.status.idle": "2022-04-20T08:26:05.721422Z",
     "shell.execute_reply": "2022-04-20T08:26:05.720752Z"
    },
    "papermill": {
     "duration": 0.077859,
     "end_time": "2022-04-20T08:26:05.723695",
     "exception": false,
     "start_time": "2022-04-20T08:26:05.645836",
     "status": "completed"
    },
    "tags": []
   },
   "outputs": [],
   "source": [
    "df.to_csv('result.csv', index = False)"
   ]
  },
  {
   "cell_type": "markdown",
   "id": "20340d22",
   "metadata": {
    "papermill": {
     "duration": 0.066278,
     "end_time": "2022-04-20T08:26:05.856207",
     "exception": false,
     "start_time": "2022-04-20T08:26:05.789929",
     "status": "completed"
    },
    "tags": []
   },
   "source": [
    "# 4. Get Centroid"
   ]
  },
  {
   "cell_type": "code",
   "execution_count": 30,
   "id": "99dea4af",
   "metadata": {
    "execution": {
     "iopub.execute_input": "2022-04-20T08:26:05.995091Z",
     "iopub.status.busy": "2022-04-20T08:26:05.994076Z",
     "iopub.status.idle": "2022-04-20T08:26:06.000307Z",
     "shell.execute_reply": "2022-04-20T08:26:05.999519Z"
    },
    "papermill": {
     "duration": 0.07822,
     "end_time": "2022-04-20T08:26:06.002247",
     "exception": false,
     "start_time": "2022-04-20T08:26:05.924027",
     "status": "completed"
    },
    "tags": []
   },
   "outputs": [
    {
     "data": {
      "text/plain": [
       "array([[-0.29471451,  0.35171319,  1.42760861,  0.18592565],\n",
       "       [ 0.704971  , -2.44721258, -0.258319  , -1.5866442 ],\n",
       "       [-0.49351598,  0.29037983, -0.27464134,  0.01139135],\n",
       "       [ 1.29397158,  0.80818546, -0.57419094,  3.1178844 ],\n",
       "       [ 3.41010427, -0.22441135, -1.87319213, -0.80221212]])"
      ]
     },
     "execution_count": 30,
     "metadata": {},
     "output_type": "execute_result"
    }
   ],
   "source": [
    "kmeans.cluster_centers_"
   ]
  },
  {
   "cell_type": "code",
   "execution_count": 31,
   "id": "020ce1ad",
   "metadata": {
    "execution": {
     "iopub.execute_input": "2022-04-20T08:26:06.140154Z",
     "iopub.status.busy": "2022-04-20T08:26:06.138456Z",
     "iopub.status.idle": "2022-04-20T08:26:06.324313Z",
     "shell.execute_reply": "2022-04-20T08:26:06.323270Z"
    },
    "papermill": {
     "duration": 0.25607,
     "end_time": "2022-04-20T08:26:06.326716",
     "exception": false,
     "start_time": "2022-04-20T08:26:06.070646",
     "status": "completed"
    },
    "tags": []
   },
   "outputs": [
    {
     "data": {
      "image/png": "[encoded data removed]",
      "text/plain": [
       "<Figure size 576x576 with 1 Axes>"
      ]
     },
     "metadata": {
      "needs_background": "light"
     },
     "output_type": "display_data"
    }
   ],
   "source": [
    "from mpl_toolkits.mplot3d import Axes3D\n",
    "\n",
    "fig = plt.figure()\n",
    "ax = fig.add_subplot(111, projection = '3d')\n",
    "x = [-1.0747699 ,  1.60761561,  1.45000206]\n",
    "y = [ 1.25270712, -0.73415244, -1.22811141]\n",
    "z = [-0.47688144, -0.04643691,  0.33540692]\n",
    "\n",
    "ax.set_xlabel(\"DER (St.)\")\n",
    "ax.set_ylabel(\"Operating Profit Margin (St.)\")\n",
    "ax.set_zlabel(\"Sales Growth (St.)\")\n",
    "ax.scatter(x, y, z)\n",
    "plt.show()"
   ]
  },
  {
   "cell_type": "markdown",
   "id": "012d4ad0",
   "metadata": {
    "papermill": {
     "duration": 0.069834,
     "end_time": "2022-04-20T08:26:06.466759",
     "exception": false,
     "start_time": "2022-04-20T08:26:06.396925",
     "status": "completed"
    },
    "tags": []
   },
   "source": [
    "# 5. Cluster Description"
   ]
  },
  {
   "cell_type": "code",
   "execution_count": 32,
   "id": "4e1044d0",
   "metadata": {
    "execution": {
     "iopub.execute_input": "2022-04-20T08:26:06.607613Z",
     "iopub.status.busy": "2022-04-20T08:26:06.606614Z",
     "iopub.status.idle": "2022-04-20T08:26:06.644795Z",
     "shell.execute_reply": "2022-04-20T08:26:06.643862Z"
    },
    "papermill": {
     "duration": 0.110855,
     "end_time": "2022-04-20T08:26:06.647205",
     "exception": false,
     "start_time": "2022-04-20T08:26:06.536350",
     "status": "completed"
    },
    "tags": []
   },
   "outputs": [
    {
     "data": {
      "text/html": [
       "<div>\n",
       "<style scoped>\n",
       "    .dataframe tbody tr th:only-of-type {\n",
       "        vertical-align: middle;\n",
       "    }\n",
       "\n",
       "    .dataframe tbody tr th {\n",
       "        vertical-align: top;\n",
       "    }\n",
       "\n",
       "    .dataframe thead th {\n",
       "        text-align: right;\n",
       "    }\n",
       "</style>\n",
       "<table border=\"1\" class=\"dataframe\">\n",
       "  <thead>\n",
       "    <tr style=\"text-align: right;\">\n",
       "      <th></th>\n",
       "      <th>Category</th>\n",
       "      <th>DER (St.)</th>\n",
       "      <th>Operating Profit Margin (St.)</th>\n",
       "      <th>Sales Growth (St.)</th>\n",
       "      <th>Return On Asset (St.)</th>\n",
       "      <th>DER</th>\n",
       "      <th>Operating Profit Margin</th>\n",
       "      <th>Sales Growth</th>\n",
       "      <th>Return On Asset</th>\n",
       "    </tr>\n",
       "  </thead>\n",
       "  <tbody>\n",
       "    <tr>\n",
       "      <th>count</th>\n",
       "      <td>2.0</td>\n",
       "      <td>2.000000</td>\n",
       "      <td>2.000000</td>\n",
       "      <td>2.000000</td>\n",
       "      <td>2.000000</td>\n",
       "      <td>2.000000</td>\n",
       "      <td>2.000000</td>\n",
       "      <td>2.000000</td>\n",
       "      <td>2.000000</td>\n",
       "    </tr>\n",
       "    <tr>\n",
       "      <th>mean</th>\n",
       "      <td>4.0</td>\n",
       "      <td>0.704971</td>\n",
       "      <td>-2.447213</td>\n",
       "      <td>-0.258319</td>\n",
       "      <td>-1.586644</td>\n",
       "      <td>0.620009</td>\n",
       "      <td>-0.865795</td>\n",
       "      <td>1.365539</td>\n",
       "      <td>0.011854</td>\n",
       "    </tr>\n",
       "    <tr>\n",
       "      <th>std</th>\n",
       "      <td>0.0</td>\n",
       "      <td>0.014475</td>\n",
       "      <td>1.273661</td>\n",
       "      <td>0.789352</td>\n",
       "      <td>0.372431</td>\n",
       "      <td>0.875645</td>\n",
       "      <td>1.614209</td>\n",
       "      <td>0.121582</td>\n",
       "      <td>0.101521</td>\n",
       "    </tr>\n",
       "    <tr>\n",
       "      <th>min</th>\n",
       "      <td>4.0</td>\n",
       "      <td>0.694736</td>\n",
       "      <td>-3.347827</td>\n",
       "      <td>-0.816475</td>\n",
       "      <td>-1.849993</td>\n",
       "      <td>0.000834</td>\n",
       "      <td>-2.007213</td>\n",
       "      <td>1.279567</td>\n",
       "      <td>-0.059932</td>\n",
       "    </tr>\n",
       "    <tr>\n",
       "      <th>25%</th>\n",
       "      <td>4.0</td>\n",
       "      <td>0.699853</td>\n",
       "      <td>-2.897520</td>\n",
       "      <td>-0.537397</td>\n",
       "      <td>-1.718318</td>\n",
       "      <td>0.310421</td>\n",
       "      <td>-1.436504</td>\n",
       "      <td>1.322553</td>\n",
       "      <td>-0.024039</td>\n",
       "    </tr>\n",
       "    <tr>\n",
       "      <th>50%</th>\n",
       "      <td>4.0</td>\n",
       "      <td>0.704971</td>\n",
       "      <td>-2.447213</td>\n",
       "      <td>-0.258319</td>\n",
       "      <td>-1.586644</td>\n",
       "      <td>0.620009</td>\n",
       "      <td>-0.865795</td>\n",
       "      <td>1.365539</td>\n",
       "      <td>0.011854</td>\n",
       "    </tr>\n",
       "    <tr>\n",
       "      <th>75%</th>\n",
       "      <td>4.0</td>\n",
       "      <td>0.710089</td>\n",
       "      <td>-1.996905</td>\n",
       "      <td>0.020759</td>\n",
       "      <td>-1.454970</td>\n",
       "      <td>0.929596</td>\n",
       "      <td>-0.295085</td>\n",
       "      <td>1.408524</td>\n",
       "      <td>0.047747</td>\n",
       "    </tr>\n",
       "    <tr>\n",
       "      <th>max</th>\n",
       "      <td>4.0</td>\n",
       "      <td>0.715206</td>\n",
       "      <td>-1.546598</td>\n",
       "      <td>0.299837</td>\n",
       "      <td>-1.323296</td>\n",
       "      <td>1.239184</td>\n",
       "      <td>0.275624</td>\n",
       "      <td>1.451510</td>\n",
       "      <td>0.083640</td>\n",
       "    </tr>\n",
       "  </tbody>\n",
       "</table>\n",
       "</div>"
      ],
      "text/plain": [
       "       Category  DER (St.)  Operating Profit Margin (St.)  Sales Growth (St.)  \\\n",
       "count       2.0   2.000000                       2.000000            2.000000   \n",
       "mean        4.0   0.704971                      -2.447213           -0.258319   \n",
       "std         0.0   0.014475                       1.273661            0.789352   \n",
       "min         4.0   0.694736                      -3.347827           -0.816475   \n",
       "25%         4.0   0.699853                      -2.897520           -0.537397   \n",
       "50%         4.0   0.704971                      -2.447213           -0.258319   \n",
       "75%         4.0   0.710089                      -1.996905            0.020759   \n",
       "max         4.0   0.715206                      -1.546598            0.299837   \n",
       "\n",
       "       Return On Asset (St.)       DER  Operating Profit Margin  Sales Growth  \\\n",
       "count               2.000000  2.000000                 2.000000      2.000000   \n",
       "mean               -1.586644  0.620009                -0.865795      1.365539   \n",
       "std                 0.372431  0.875645                 1.614209      0.121582   \n",
       "min                -1.849993  0.000834                -2.007213      1.279567   \n",
       "25%                -1.718318  0.310421                -1.436504      1.322553   \n",
       "50%                -1.586644  0.620009                -0.865795      1.365539   \n",
       "75%                -1.454970  0.929596                -0.295085      1.408524   \n",
       "max                -1.323296  1.239184                 0.275624      1.451510   \n",
       "\n",
       "       Return On Asset  \n",
       "count         2.000000  \n",
       "mean          0.011854  \n",
       "std           0.101521  \n",
       "min          -0.059932  \n",
       "25%          -0.024039  \n",
       "50%           0.011854  \n",
       "75%           0.047747  \n",
       "max           0.083640  "
      ]
     },
     "execution_count": 32,
     "metadata": {},
     "output_type": "execute_result"
    }
   ],
   "source": [
    "#Highly Positively Impacted\n",
    "df[df['Category'] == 4].describe() "
   ]
  },
  {
   "cell_type": "code",
   "execution_count": 33,
   "id": "bb168981",
   "metadata": {
    "execution": {
     "iopub.execute_input": "2022-04-20T08:26:06.790258Z",
     "iopub.status.busy": "2022-04-20T08:26:06.789906Z",
     "iopub.status.idle": "2022-04-20T08:26:06.828751Z",
     "shell.execute_reply": "2022-04-20T08:26:06.828032Z"
    },
    "papermill": {
     "duration": 0.113458,
     "end_time": "2022-04-20T08:26:06.830923",
     "exception": false,
     "start_time": "2022-04-20T08:26:06.717465",
     "status": "completed"
    },
    "tags": []
   },
   "outputs": [
    {
     "data": {
      "text/html": [
       "<div>\n",
       "<style scoped>\n",
       "    .dataframe tbody tr th:only-of-type {\n",
       "        vertical-align: middle;\n",
       "    }\n",
       "\n",
       "    .dataframe tbody tr th {\n",
       "        vertical-align: top;\n",
       "    }\n",
       "\n",
       "    .dataframe thead th {\n",
       "        text-align: right;\n",
       "    }\n",
       "</style>\n",
       "<table border=\"1\" class=\"dataframe\">\n",
       "  <thead>\n",
       "    <tr style=\"text-align: right;\">\n",
       "      <th></th>\n",
       "      <th>Category</th>\n",
       "      <th>DER (St.)</th>\n",
       "      <th>Operating Profit Margin (St.)</th>\n",
       "      <th>Sales Growth (St.)</th>\n",
       "      <th>Return On Asset (St.)</th>\n",
       "      <th>DER</th>\n",
       "      <th>Operating Profit Margin</th>\n",
       "      <th>Sales Growth</th>\n",
       "      <th>Return On Asset</th>\n",
       "    </tr>\n",
       "  </thead>\n",
       "  <tbody>\n",
       "    <tr>\n",
       "      <th>count</th>\n",
       "      <td>1.0</td>\n",
       "      <td>1.000000</td>\n",
       "      <td>1.000000</td>\n",
       "      <td>1.000000</td>\n",
       "      <td>1.000000</td>\n",
       "      <td>1.000</td>\n",
       "      <td>1.000000</td>\n",
       "      <td>1.000000</td>\n",
       "      <td>1.000000</td>\n",
       "    </tr>\n",
       "    <tr>\n",
       "      <th>mean</th>\n",
       "      <td>3.0</td>\n",
       "      <td>3.410104</td>\n",
       "      <td>-0.224411</td>\n",
       "      <td>-1.873192</td>\n",
       "      <td>-0.802212</td>\n",
       "      <td>0.624</td>\n",
       "      <td>-0.031987</td>\n",
       "      <td>1.056816</td>\n",
       "      <td>-0.026476</td>\n",
       "    </tr>\n",
       "    <tr>\n",
       "      <th>std</th>\n",
       "      <td>NaN</td>\n",
       "      <td>NaN</td>\n",
       "      <td>NaN</td>\n",
       "      <td>NaN</td>\n",
       "      <td>NaN</td>\n",
       "      <td>NaN</td>\n",
       "      <td>NaN</td>\n",
       "      <td>NaN</td>\n",
       "      <td>NaN</td>\n",
       "    </tr>\n",
       "    <tr>\n",
       "      <th>min</th>\n",
       "      <td>3.0</td>\n",
       "      <td>3.410104</td>\n",
       "      <td>-0.224411</td>\n",
       "      <td>-1.873192</td>\n",
       "      <td>-0.802212</td>\n",
       "      <td>0.624</td>\n",
       "      <td>-0.031987</td>\n",
       "      <td>1.056816</td>\n",
       "      <td>-0.026476</td>\n",
       "    </tr>\n",
       "    <tr>\n",
       "      <th>25%</th>\n",
       "      <td>3.0</td>\n",
       "      <td>3.410104</td>\n",
       "      <td>-0.224411</td>\n",
       "      <td>-1.873192</td>\n",
       "      <td>-0.802212</td>\n",
       "      <td>0.624</td>\n",
       "      <td>-0.031987</td>\n",
       "      <td>1.056816</td>\n",
       "      <td>-0.026476</td>\n",
       "    </tr>\n",
       "    <tr>\n",
       "      <th>50%</th>\n",
       "      <td>3.0</td>\n",
       "      <td>3.410104</td>\n",
       "      <td>-0.224411</td>\n",
       "      <td>-1.873192</td>\n",
       "      <td>-0.802212</td>\n",
       "      <td>0.624</td>\n",
       "      <td>-0.031987</td>\n",
       "      <td>1.056816</td>\n",
       "      <td>-0.026476</td>\n",
       "    </tr>\n",
       "    <tr>\n",
       "      <th>75%</th>\n",
       "      <td>3.0</td>\n",
       "      <td>3.410104</td>\n",
       "      <td>-0.224411</td>\n",
       "      <td>-1.873192</td>\n",
       "      <td>-0.802212</td>\n",
       "      <td>0.624</td>\n",
       "      <td>-0.031987</td>\n",
       "      <td>1.056816</td>\n",
       "      <td>-0.026476</td>\n",
       "    </tr>\n",
       "    <tr>\n",
       "      <th>max</th>\n",
       "      <td>3.0</td>\n",
       "      <td>3.410104</td>\n",
       "      <td>-0.224411</td>\n",
       "      <td>-1.873192</td>\n",
       "      <td>-0.802212</td>\n",
       "      <td>0.624</td>\n",
       "      <td>-0.031987</td>\n",
       "      <td>1.056816</td>\n",
       "      <td>-0.026476</td>\n",
       "    </tr>\n",
       "  </tbody>\n",
       "</table>\n",
       "</div>"
      ],
      "text/plain": [
       "       Category  DER (St.)  Operating Profit Margin (St.)  Sales Growth (St.)  \\\n",
       "count       1.0   1.000000                       1.000000            1.000000   \n",
       "mean        3.0   3.410104                      -0.224411           -1.873192   \n",
       "std         NaN        NaN                            NaN                 NaN   \n",
       "min         3.0   3.410104                      -0.224411           -1.873192   \n",
       "25%         3.0   3.410104                      -0.224411           -1.873192   \n",
       "50%         3.0   3.410104                      -0.224411           -1.873192   \n",
       "75%         3.0   3.410104                      -0.224411           -1.873192   \n",
       "max         3.0   3.410104                      -0.224411           -1.873192   \n",
       "\n",
       "       Return On Asset (St.)    DER  Operating Profit Margin  Sales Growth  \\\n",
       "count               1.000000  1.000                 1.000000      1.000000   \n",
       "mean               -0.802212  0.624                -0.031987      1.056816   \n",
       "std                      NaN    NaN                      NaN           NaN   \n",
       "min                -0.802212  0.624                -0.031987      1.056816   \n",
       "25%                -0.802212  0.624                -0.031987      1.056816   \n",
       "50%                -0.802212  0.624                -0.031987      1.056816   \n",
       "75%                -0.802212  0.624                -0.031987      1.056816   \n",
       "max                -0.802212  0.624                -0.031987      1.056816   \n",
       "\n",
       "       Return On Asset  \n",
       "count         1.000000  \n",
       "mean         -0.026476  \n",
       "std                NaN  \n",
       "min          -0.026476  \n",
       "25%          -0.026476  \n",
       "50%          -0.026476  \n",
       "75%          -0.026476  \n",
       "max          -0.026476  "
      ]
     },
     "execution_count": 33,
     "metadata": {},
     "output_type": "execute_result"
    }
   ],
   "source": [
    "#Highly Positively Impacted\n",
    "df[df['Category'] == 3].describe() "
   ]
  },
  {
   "cell_type": "code",
   "execution_count": 34,
   "id": "6042843d",
   "metadata": {
    "execution": {
     "iopub.execute_input": "2022-04-20T08:26:06.975518Z",
     "iopub.status.busy": "2022-04-20T08:26:06.974943Z",
     "iopub.status.idle": "2022-04-20T08:26:07.011916Z",
     "shell.execute_reply": "2022-04-20T08:26:07.011274Z"
    },
    "papermill": {
     "duration": 0.111449,
     "end_time": "2022-04-20T08:26:07.013869",
     "exception": false,
     "start_time": "2022-04-20T08:26:06.902420",
     "status": "completed"
    },
    "tags": []
   },
   "outputs": [
    {
     "data": {
      "text/html": [
       "<div>\n",
       "<style scoped>\n",
       "    .dataframe tbody tr th:only-of-type {\n",
       "        vertical-align: middle;\n",
       "    }\n",
       "\n",
       "    .dataframe tbody tr th {\n",
       "        vertical-align: top;\n",
       "    }\n",
       "\n",
       "    .dataframe thead th {\n",
       "        text-align: right;\n",
       "    }\n",
       "</style>\n",
       "<table border=\"1\" class=\"dataframe\">\n",
       "  <thead>\n",
       "    <tr style=\"text-align: right;\">\n",
       "      <th></th>\n",
       "      <th>Category</th>\n",
       "      <th>DER (St.)</th>\n",
       "      <th>Operating Profit Margin (St.)</th>\n",
       "      <th>Sales Growth (St.)</th>\n",
       "      <th>Return On Asset (St.)</th>\n",
       "      <th>DER</th>\n",
       "      <th>Operating Profit Margin</th>\n",
       "      <th>Sales Growth</th>\n",
       "      <th>Return On Asset</th>\n",
       "    </tr>\n",
       "  </thead>\n",
       "  <tbody>\n",
       "    <tr>\n",
       "      <th>count</th>\n",
       "      <td>4.0</td>\n",
       "      <td>4.000000</td>\n",
       "      <td>4.000000</td>\n",
       "      <td>4.000000</td>\n",
       "      <td>4.000000</td>\n",
       "      <td>4.000000</td>\n",
       "      <td>4.000000</td>\n",
       "      <td>4.000000</td>\n",
       "      <td>4.000000</td>\n",
       "    </tr>\n",
       "    <tr>\n",
       "      <th>mean</th>\n",
       "      <td>2.0</td>\n",
       "      <td>-0.294715</td>\n",
       "      <td>0.351713</td>\n",
       "      <td>1.427609</td>\n",
       "      <td>0.185926</td>\n",
       "      <td>1.649577</td>\n",
       "      <td>-0.127945</td>\n",
       "      <td>1.570584</td>\n",
       "      <td>-0.004174</td>\n",
       "    </tr>\n",
       "    <tr>\n",
       "      <th>std</th>\n",
       "      <td>0.0</td>\n",
       "      <td>0.180739</td>\n",
       "      <td>0.356575</td>\n",
       "      <td>0.553331</td>\n",
       "      <td>0.137452</td>\n",
       "      <td>1.356149</td>\n",
       "      <td>0.576412</td>\n",
       "      <td>0.410801</td>\n",
       "      <td>0.116460</td>\n",
       "    </tr>\n",
       "    <tr>\n",
       "      <th>min</th>\n",
       "      <td>2.0</td>\n",
       "      <td>-0.499855</td>\n",
       "      <td>-0.165102</td>\n",
       "      <td>0.781092</td>\n",
       "      <td>0.034089</td>\n",
       "      <td>0.395062</td>\n",
       "      <td>-0.980925</td>\n",
       "      <td>0.977537</td>\n",
       "      <td>-0.178472</td>\n",
       "    </tr>\n",
       "    <tr>\n",
       "      <th>25%</th>\n",
       "      <td>2.0</td>\n",
       "      <td>-0.413139</td>\n",
       "      <td>0.274688</td>\n",
       "      <td>1.095223</td>\n",
       "      <td>0.124333</td>\n",
       "      <td>0.993079</td>\n",
       "      <td>-0.227242</td>\n",
       "      <td>1.463726</td>\n",
       "      <td>-0.012257</td>\n",
       "    </tr>\n",
       "    <tr>\n",
       "      <th>50%</th>\n",
       "      <td>2.0</td>\n",
       "      <td>-0.289503</td>\n",
       "      <td>0.463877</td>\n",
       "      <td>1.441079</td>\n",
       "      <td>0.171533</td>\n",
       "      <td>1.316269</td>\n",
       "      <td>0.116558</td>\n",
       "      <td>1.703315</td>\n",
       "      <td>0.050224</td>\n",
       "    </tr>\n",
       "    <tr>\n",
       "      <th>75%</th>\n",
       "      <td>2.0</td>\n",
       "      <td>-0.171078</td>\n",
       "      <td>0.540902</td>\n",
       "      <td>1.773465</td>\n",
       "      <td>0.233126</td>\n",
       "      <td>1.972766</td>\n",
       "      <td>0.215855</td>\n",
       "      <td>1.810173</td>\n",
       "      <td>0.058308</td>\n",
       "    </tr>\n",
       "    <tr>\n",
       "      <th>max</th>\n",
       "      <td>2.0</td>\n",
       "      <td>-0.099997</td>\n",
       "      <td>0.644201</td>\n",
       "      <td>2.047184</td>\n",
       "      <td>0.366547</td>\n",
       "      <td>3.570709</td>\n",
       "      <td>0.236027</td>\n",
       "      <td>1.898171</td>\n",
       "      <td>0.061328</td>\n",
       "    </tr>\n",
       "  </tbody>\n",
       "</table>\n",
       "</div>"
      ],
      "text/plain": [
       "       Category  DER (St.)  Operating Profit Margin (St.)  Sales Growth (St.)  \\\n",
       "count       4.0   4.000000                       4.000000            4.000000   \n",
       "mean        2.0  -0.294715                       0.351713            1.427609   \n",
       "std         0.0   0.180739                       0.356575            0.553331   \n",
       "min         2.0  -0.499855                      -0.165102            0.781092   \n",
       "25%         2.0  -0.413139                       0.274688            1.095223   \n",
       "50%         2.0  -0.289503                       0.463877            1.441079   \n",
       "75%         2.0  -0.171078                       0.540902            1.773465   \n",
       "max         2.0  -0.099997                       0.644201            2.047184   \n",
       "\n",
       "       Return On Asset (St.)       DER  Operating Profit Margin  Sales Growth  \\\n",
       "count               4.000000  4.000000                 4.000000      4.000000   \n",
       "mean                0.185926  1.649577                -0.127945      1.570584   \n",
       "std                 0.137452  1.356149                 0.576412      0.410801   \n",
       "min                 0.034089  0.395062                -0.980925      0.977537   \n",
       "25%                 0.124333  0.993079                -0.227242      1.463726   \n",
       "50%                 0.171533  1.316269                 0.116558      1.703315   \n",
       "75%                 0.233126  1.972766                 0.215855      1.810173   \n",
       "max                 0.366547  3.570709                 0.236027      1.898171   \n",
       "\n",
       "       Return On Asset  \n",
       "count         4.000000  \n",
       "mean         -0.004174  \n",
       "std           0.116460  \n",
       "min          -0.178472  \n",
       "25%          -0.012257  \n",
       "50%           0.050224  \n",
       "75%           0.058308  \n",
       "max           0.061328  "
      ]
     },
     "execution_count": 34,
     "metadata": {},
     "output_type": "execute_result"
    }
   ],
   "source": [
    "#Highly Positively Impacted\n",
    "df[df['Category'] == 2].describe() "
   ]
  },
  {
   "cell_type": "code",
   "execution_count": 35,
   "id": "16aa2109",
   "metadata": {
    "execution": {
     "iopub.execute_input": "2022-04-20T08:26:07.159298Z",
     "iopub.status.busy": "2022-04-20T08:26:07.158716Z",
     "iopub.status.idle": "2022-04-20T08:26:07.196011Z",
     "shell.execute_reply": "2022-04-20T08:26:07.194629Z"
    },
    "papermill": {
     "duration": 0.113759,
     "end_time": "2022-04-20T08:26:07.198496",
     "exception": false,
     "start_time": "2022-04-20T08:26:07.084737",
     "status": "completed"
    },
    "tags": []
   },
   "outputs": [
    {
     "data": {
      "text/html": [
       "<div>\n",
       "<style scoped>\n",
       "    .dataframe tbody tr th:only-of-type {\n",
       "        vertical-align: middle;\n",
       "    }\n",
       "\n",
       "    .dataframe tbody tr th {\n",
       "        vertical-align: top;\n",
       "    }\n",
       "\n",
       "    .dataframe thead th {\n",
       "        text-align: right;\n",
       "    }\n",
       "</style>\n",
       "<table border=\"1\" class=\"dataframe\">\n",
       "  <thead>\n",
       "    <tr style=\"text-align: right;\">\n",
       "      <th></th>\n",
       "      <th>Category</th>\n",
       "      <th>DER (St.)</th>\n",
       "      <th>Operating Profit Margin (St.)</th>\n",
       "      <th>Sales Growth (St.)</th>\n",
       "      <th>Return On Asset (St.)</th>\n",
       "      <th>DER</th>\n",
       "      <th>Operating Profit Margin</th>\n",
       "      <th>Sales Growth</th>\n",
       "      <th>Return On Asset</th>\n",
       "    </tr>\n",
       "  </thead>\n",
       "  <tbody>\n",
       "    <tr>\n",
       "      <th>count</th>\n",
       "      <td>10.0</td>\n",
       "      <td>10.000000</td>\n",
       "      <td>10.000000</td>\n",
       "      <td>10.000000</td>\n",
       "      <td>10.000000</td>\n",
       "      <td>10.000000</td>\n",
       "      <td>10.000000</td>\n",
       "      <td>10.000000</td>\n",
       "      <td>10.000000</td>\n",
       "    </tr>\n",
       "    <tr>\n",
       "      <th>mean</th>\n",
       "      <td>1.0</td>\n",
       "      <td>-0.493516</td>\n",
       "      <td>0.290380</td>\n",
       "      <td>-0.274641</td>\n",
       "      <td>0.011391</td>\n",
       "      <td>2.120882</td>\n",
       "      <td>0.185462</td>\n",
       "      <td>1.110184</td>\n",
       "      <td>0.078445</td>\n",
       "    </tr>\n",
       "    <tr>\n",
       "      <th>std</th>\n",
       "      <td>0.0</td>\n",
       "      <td>0.302148</td>\n",
       "      <td>0.468700</td>\n",
       "      <td>0.630683</td>\n",
       "      <td>0.501710</td>\n",
       "      <td>3.319476</td>\n",
       "      <td>0.151762</td>\n",
       "      <td>0.279579</td>\n",
       "      <td>0.130401</td>\n",
       "    </tr>\n",
       "    <tr>\n",
       "      <th>min</th>\n",
       "      <td>1.0</td>\n",
       "      <td>-1.157119</td>\n",
       "      <td>-0.445530</td>\n",
       "      <td>-1.375781</td>\n",
       "      <td>-0.885094</td>\n",
       "      <td>0.000624</td>\n",
       "      <td>-0.064557</td>\n",
       "      <td>0.637814</td>\n",
       "      <td>-0.064974</td>\n",
       "    </tr>\n",
       "    <tr>\n",
       "      <th>25%</th>\n",
       "      <td>1.0</td>\n",
       "      <td>-0.637846</td>\n",
       "      <td>0.189473</td>\n",
       "      <td>-0.564654</td>\n",
       "      <td>-0.299575</td>\n",
       "      <td>0.543356</td>\n",
       "      <td>0.135939</td>\n",
       "      <td>0.889815</td>\n",
       "      <td>0.031135</td>\n",
       "    </tr>\n",
       "    <tr>\n",
       "      <th>50%</th>\n",
       "      <td>1.0</td>\n",
       "      <td>-0.437501</td>\n",
       "      <td>0.303804</td>\n",
       "      <td>0.087821</td>\n",
       "      <td>0.073161</td>\n",
       "      <td>0.757266</td>\n",
       "      <td>0.172038</td>\n",
       "      <td>1.168295</td>\n",
       "      <td>0.058939</td>\n",
       "    </tr>\n",
       "    <tr>\n",
       "      <th>75%</th>\n",
       "      <td>1.0</td>\n",
       "      <td>-0.360965</td>\n",
       "      <td>0.454091</td>\n",
       "      <td>0.154900</td>\n",
       "      <td>0.338395</td>\n",
       "      <td>1.490489</td>\n",
       "      <td>0.266482</td>\n",
       "      <td>1.296185</td>\n",
       "      <td>0.102627</td>\n",
       "    </tr>\n",
       "    <tr>\n",
       "      <th>max</th>\n",
       "      <td>1.0</td>\n",
       "      <td>-0.021584</td>\n",
       "      <td>1.210151</td>\n",
       "      <td>0.367372</td>\n",
       "      <td>0.682278</td>\n",
       "      <td>10.614012</td>\n",
       "      <td>0.458206</td>\n",
       "      <td>1.491136</td>\n",
       "      <td>0.405886</td>\n",
       "    </tr>\n",
       "  </tbody>\n",
       "</table>\n",
       "</div>"
      ],
      "text/plain": [
       "       Category  DER (St.)  Operating Profit Margin (St.)  Sales Growth (St.)  \\\n",
       "count      10.0  10.000000                      10.000000           10.000000   \n",
       "mean        1.0  -0.493516                       0.290380           -0.274641   \n",
       "std         0.0   0.302148                       0.468700            0.630683   \n",
       "min         1.0  -1.157119                      -0.445530           -1.375781   \n",
       "25%         1.0  -0.637846                       0.189473           -0.564654   \n",
       "50%         1.0  -0.437501                       0.303804            0.087821   \n",
       "75%         1.0  -0.360965                       0.454091            0.154900   \n",
       "max         1.0  -0.021584                       1.210151            0.367372   \n",
       "\n",
       "       Return On Asset (St.)        DER  Operating Profit Margin  \\\n",
       "count              10.000000  10.000000                10.000000   \n",
       "mean                0.011391   2.120882                 0.185462   \n",
       "std                 0.501710   3.319476                 0.151762   \n",
       "min                -0.885094   0.000624                -0.064557   \n",
       "25%                -0.299575   0.543356                 0.135939   \n",
       "50%                 0.073161   0.757266                 0.172038   \n",
       "75%                 0.338395   1.490489                 0.266482   \n",
       "max                 0.682278  10.614012                 0.458206   \n",
       "\n",
       "       Sales Growth  Return On Asset  \n",
       "count     10.000000        10.000000  \n",
       "mean       1.110184         0.078445  \n",
       "std        0.279579         0.130401  \n",
       "min        0.637814        -0.064974  \n",
       "25%        0.889815         0.031135  \n",
       "50%        1.168295         0.058939  \n",
       "75%        1.296185         0.102627  \n",
       "max        1.491136         0.405886  "
      ]
     },
     "execution_count": 35,
     "metadata": {},
     "output_type": "execute_result"
    }
   ],
   "source": [
    "#Highly Positively Impacted\n",
    "df[df['Category'] == 1].describe() "
   ]
  },
  {
   "cell_type": "code",
   "execution_count": 36,
   "id": "f3b671cb",
   "metadata": {
    "execution": {
     "iopub.execute_input": "2022-04-20T08:26:07.352438Z",
     "iopub.status.busy": "2022-04-20T08:26:07.351810Z",
     "iopub.status.idle": "2022-04-20T08:26:07.392903Z",
     "shell.execute_reply": "2022-04-20T08:26:07.391994Z"
    },
    "papermill": {
     "duration": 0.121254,
     "end_time": "2022-04-20T08:26:07.395108",
     "exception": false,
     "start_time": "2022-04-20T08:26:07.273854",
     "status": "completed"
    },
    "tags": []
   },
   "outputs": [
    {
     "data": {
      "text/html": [
       "<div>\n",
       "<style scoped>\n",
       "    .dataframe tbody tr th:only-of-type {\n",
       "        vertical-align: middle;\n",
       "    }\n",
       "\n",
       "    .dataframe tbody tr th {\n",
       "        vertical-align: top;\n",
       "    }\n",
       "\n",
       "    .dataframe thead th {\n",
       "        text-align: right;\n",
       "    }\n",
       "</style>\n",
       "<table border=\"1\" class=\"dataframe\">\n",
       "  <thead>\n",
       "    <tr style=\"text-align: right;\">\n",
       "      <th></th>\n",
       "      <th>Category</th>\n",
       "      <th>DER (St.)</th>\n",
       "      <th>Operating Profit Margin (St.)</th>\n",
       "      <th>Sales Growth (St.)</th>\n",
       "      <th>Return On Asset (St.)</th>\n",
       "      <th>DER</th>\n",
       "      <th>Operating Profit Margin</th>\n",
       "      <th>Sales Growth</th>\n",
       "      <th>Return On Asset</th>\n",
       "    </tr>\n",
       "  </thead>\n",
       "  <tbody>\n",
       "    <tr>\n",
       "      <th>count</th>\n",
       "      <td>1.0</td>\n",
       "      <td>1.000000</td>\n",
       "      <td>1.000000</td>\n",
       "      <td>1.000000</td>\n",
       "      <td>1.000000</td>\n",
       "      <td>1.000000</td>\n",
       "      <td>1.000000</td>\n",
       "      <td>1.000000</td>\n",
       "      <td>1.000000</td>\n",
       "    </tr>\n",
       "    <tr>\n",
       "      <th>mean</th>\n",
       "      <td>0.0</td>\n",
       "      <td>1.293972</td>\n",
       "      <td>0.808185</td>\n",
       "      <td>-0.574191</td>\n",
       "      <td>3.117884</td>\n",
       "      <td>3.517208</td>\n",
       "      <td>-0.412206</td>\n",
       "      <td>1.336419</td>\n",
       "      <td>-0.116518</td>\n",
       "    </tr>\n",
       "    <tr>\n",
       "      <th>std</th>\n",
       "      <td>NaN</td>\n",
       "      <td>NaN</td>\n",
       "      <td>NaN</td>\n",
       "      <td>NaN</td>\n",
       "      <td>NaN</td>\n",
       "      <td>NaN</td>\n",
       "      <td>NaN</td>\n",
       "      <td>NaN</td>\n",
       "      <td>NaN</td>\n",
       "    </tr>\n",
       "    <tr>\n",
       "      <th>min</th>\n",
       "      <td>0.0</td>\n",
       "      <td>1.293972</td>\n",
       "      <td>0.808185</td>\n",
       "      <td>-0.574191</td>\n",
       "      <td>3.117884</td>\n",
       "      <td>3.517208</td>\n",
       "      <td>-0.412206</td>\n",
       "      <td>1.336419</td>\n",
       "      <td>-0.116518</td>\n",
       "    </tr>\n",
       "    <tr>\n",
       "      <th>25%</th>\n",
       "      <td>0.0</td>\n",
       "      <td>1.293972</td>\n",
       "      <td>0.808185</td>\n",
       "      <td>-0.574191</td>\n",
       "      <td>3.117884</td>\n",
       "      <td>3.517208</td>\n",
       "      <td>-0.412206</td>\n",
       "      <td>1.336419</td>\n",
       "      <td>-0.116518</td>\n",
       "    </tr>\n",
       "    <tr>\n",
       "      <th>50%</th>\n",
       "      <td>0.0</td>\n",
       "      <td>1.293972</td>\n",
       "      <td>0.808185</td>\n",
       "      <td>-0.574191</td>\n",
       "      <td>3.117884</td>\n",
       "      <td>3.517208</td>\n",
       "      <td>-0.412206</td>\n",
       "      <td>1.336419</td>\n",
       "      <td>-0.116518</td>\n",
       "    </tr>\n",
       "    <tr>\n",
       "      <th>75%</th>\n",
       "      <td>0.0</td>\n",
       "      <td>1.293972</td>\n",
       "      <td>0.808185</td>\n",
       "      <td>-0.574191</td>\n",
       "      <td>3.117884</td>\n",
       "      <td>3.517208</td>\n",
       "      <td>-0.412206</td>\n",
       "      <td>1.336419</td>\n",
       "      <td>-0.116518</td>\n",
       "    </tr>\n",
       "    <tr>\n",
       "      <th>max</th>\n",
       "      <td>0.0</td>\n",
       "      <td>1.293972</td>\n",
       "      <td>0.808185</td>\n",
       "      <td>-0.574191</td>\n",
       "      <td>3.117884</td>\n",
       "      <td>3.517208</td>\n",
       "      <td>-0.412206</td>\n",
       "      <td>1.336419</td>\n",
       "      <td>-0.116518</td>\n",
       "    </tr>\n",
       "  </tbody>\n",
       "</table>\n",
       "</div>"
      ],
      "text/plain": [
       "       Category  DER (St.)  Operating Profit Margin (St.)  Sales Growth (St.)  \\\n",
       "count       1.0   1.000000                       1.000000            1.000000   \n",
       "mean        0.0   1.293972                       0.808185           -0.574191   \n",
       "std         NaN        NaN                            NaN                 NaN   \n",
       "min         0.0   1.293972                       0.808185           -0.574191   \n",
       "25%         0.0   1.293972                       0.808185           -0.574191   \n",
       "50%         0.0   1.293972                       0.808185           -0.574191   \n",
       "75%         0.0   1.293972                       0.808185           -0.574191   \n",
       "max         0.0   1.293972                       0.808185           -0.574191   \n",
       "\n",
       "       Return On Asset (St.)       DER  Operating Profit Margin  Sales Growth  \\\n",
       "count               1.000000  1.000000                 1.000000      1.000000   \n",
       "mean                3.117884  3.517208                -0.412206      1.336419   \n",
       "std                      NaN       NaN                      NaN           NaN   \n",
       "min                 3.117884  3.517208                -0.412206      1.336419   \n",
       "25%                 3.117884  3.517208                -0.412206      1.336419   \n",
       "50%                 3.117884  3.517208                -0.412206      1.336419   \n",
       "75%                 3.117884  3.517208                -0.412206      1.336419   \n",
       "max                 3.117884  3.517208                -0.412206      1.336419   \n",
       "\n",
       "       Return On Asset  \n",
       "count         1.000000  \n",
       "mean         -0.116518  \n",
       "std                NaN  \n",
       "min          -0.116518  \n",
       "25%          -0.116518  \n",
       "50%          -0.116518  \n",
       "75%          -0.116518  \n",
       "max          -0.116518  "
      ]
     },
     "execution_count": 36,
     "metadata": {},
     "output_type": "execute_result"
    }
   ],
   "source": [
    "#Highly Positively Impacted\n",
    "df[df['Category'] == 0].describe() "
   ]
  }
 ],
 "metadata": {
  "kernelspec": {
   "display_name": "Python 3",
   "language": "python",
   "name": "python3"
  },
  "language_info": {
   "codemirror_mode": {
    "name": "ipython",
    "version": 3
   },
   "file_extension": ".py",
   "mimetype": "text/x-python",
   "name": "python",
   "nbconvert_exporter": "python",
   "pygments_lexer": "ipython3",
   "version": "3.7.12"
  },
  "papermill": {
   "default_parameters": {},
   "duration": 24.725135,
   "end_time": "2022-04-20T08:26:08.394500",
   "environment_variables": {},
   "exception": null,
   "input_path": "__notebook__.ipynb",
   "output_path": "__notebook__.ipynb",
   "parameters": {},
   "start_time": "2022-04-20T08:25:43.669365",
   "version": "2.3.4"
  }
 },
 "nbformat": 4,
 "nbformat_minor": 5
}
